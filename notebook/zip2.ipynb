{
 "cells": [
  {
   "cell_type": "code",
   "execution_count": 1,
   "metadata": {},
   "outputs": [],
   "source": [
    "import pandas as pd   \n",
    "import numpy as np\n",
    "import matplotlib.pyplot as plt\n",
    "import seaborn as sns"
   ]
  },
  {
   "attachments": {},
   "cell_type": "markdown",
   "metadata": {},
   "source": [
    "1. Import state employment data from years 2000-2020. All included states have zipcodes that begin with 2. "
   ]
  },
  {
   "cell_type": "code",
   "execution_count": 2,
   "metadata": {},
   "outputs": [
    {
     "name": "stderr",
     "output_type": "stream",
     "text": [
      "c:\\Users\\12564\\anaconda3\\lib\\site-packages\\openpyxl\\styles\\stylesheet.py:226: UserWarning: Workbook contains no default style, apply openpyxl's default\n",
      "  warn(\"Workbook contains no default style, apply openpyxl's default\")\n",
      "c:\\Users\\12564\\anaconda3\\lib\\site-packages\\openpyxl\\styles\\stylesheet.py:226: UserWarning: Workbook contains no default style, apply openpyxl's default\n",
      "  warn(\"Workbook contains no default style, apply openpyxl's default\")\n",
      "c:\\Users\\12564\\anaconda3\\lib\\site-packages\\openpyxl\\styles\\stylesheet.py:226: UserWarning: Workbook contains no default style, apply openpyxl's default\n",
      "  warn(\"Workbook contains no default style, apply openpyxl's default\")\n",
      "c:\\Users\\12564\\anaconda3\\lib\\site-packages\\openpyxl\\styles\\stylesheet.py:226: UserWarning: Workbook contains no default style, apply openpyxl's default\n",
      "  warn(\"Workbook contains no default style, apply openpyxl's default\")\n",
      "c:\\Users\\12564\\anaconda3\\lib\\site-packages\\openpyxl\\styles\\stylesheet.py:226: UserWarning: Workbook contains no default style, apply openpyxl's default\n",
      "  warn(\"Workbook contains no default style, apply openpyxl's default\")\n",
      "c:\\Users\\12564\\anaconda3\\lib\\site-packages\\openpyxl\\styles\\stylesheet.py:226: UserWarning: Workbook contains no default style, apply openpyxl's default\n",
      "  warn(\"Workbook contains no default style, apply openpyxl's default\")\n"
     ]
    }
   ],
   "source": [
    "DC_df = pd.read_excel('../data/2XXXX/dc_jobs.xlsx', skiprows=12)\n",
    "MD_df = pd.read_excel('../data/2XXXX/md_jobs.xlsx', skiprows=12)\n",
    "NC_df = pd.read_excel('../data/2XXXX/nc_jobs.xlsx', skiprows=12)\n",
    "SC_df = pd.read_excel('../data/2XXXX/sc_jobs.xlsx', skiprows=12)\n",
    "VA_df = pd.read_excel('../data/2XXXX/va_jobs.xlsx', skiprows=12)\n",
    "WV_df = pd.read_excel('../data/2XXXX/wv_jobs.xlsx', skiprows=12)"
   ]
  },
  {
   "attachments": {},
   "cell_type": "markdown",
   "metadata": {},
   "source": [
    "2. Combine all state employment numbers to a common dataframe for all states with 2XXXX."
   ]
  },
  {
   "cell_type": "code",
   "execution_count": 3,
   "metadata": {},
   "outputs": [],
   "source": [
    "combined_df = pd.concat([DC_df,MD_df,NC_df,SC_df,VA_df,WV_df])"
   ]
  },
  {
   "attachments": {},
   "cell_type": "markdown",
   "metadata": {},
   "source": [
    "3. Group data by year, first step to find the mean for the region."
   ]
  },
  {
   "cell_type": "code",
   "execution_count": 4,
   "metadata": {},
   "outputs": [],
   "source": [
    "avg_job_growth = combined_df.groupby('Year').mean()"
   ]
  },
  {
   "attachments": {},
   "cell_type": "markdown",
   "metadata": {},
   "source": [
    "4. Perform a mean on the group by data to get final numbers. "
   ]
  },
  {
   "cell_type": "code",
   "execution_count": 5,
   "metadata": {},
   "outputs": [],
   "source": [
    "region2_jobs = avg_job_growth.mean(axis=1).reset_index()"
   ]
  },
  {
   "cell_type": "code",
   "execution_count": 6,
   "metadata": {},
   "outputs": [],
   "source": [
    "region2_jobs.columns.values[1]='employment_by_thosands'"
   ]
  },
  {
   "attachments": {},
   "cell_type": "markdown",
   "metadata": {},
   "source": [
    "5. Convert numbers into percentage change based on year by year values for better comparison to other regions. "
   ]
  },
  {
   "cell_type": "code",
   "execution_count": 7,
   "metadata": {},
   "outputs": [],
   "source": [
    "region2_jobs['percent_change'] = region2_jobs['employment_by_thosands'].pct_change()*100"
   ]
  },
  {
   "attachments": {},
   "cell_type": "markdown",
   "metadata": {},
   "source": [
    "6. Find percentage change from 2000 to 2010, 2010 to 2020, and 2000 to 2020"
   ]
  },
  {
   "cell_type": "code",
   "execution_count": 8,
   "metadata": {},
   "outputs": [],
   "source": [
    "region2_2000 = region2_jobs.iloc[0,1]\n",
    "region2_2010 = region2_jobs.iloc[10,1]\n",
    "region2_2020 = region2_jobs.iloc[20,1]"
   ]
  },
  {
   "cell_type": "code",
   "execution_count": 9,
   "metadata": {},
   "outputs": [],
   "source": [
    "region2_2000_2010_change = (region2_2010-region2_2000)/region2_2000 *100\n",
    "region2_2010_2020_change = (region2_2020-region2_2010)/region2_2010*100\n",
    "region2_20_year_change = (region2_2020-region2_2000)/region2_2000*100\n",
    "region2_jobs['employment percent change since 2000']=(region2_jobs['employment_by_thosands']-region2_jobs.iloc[0,1])/(region2_jobs.iloc[0,1])*100\n",
    "region2_jobs['employment percent change since 2010']=(region2_jobs['employment_by_thosands']-region2_jobs.iloc[10,1])/(region2_jobs.iloc[10,1])*100"
   ]
  },
  {
   "attachments": {},
   "cell_type": "markdown",
   "metadata": {},
   "source": [
    "ZIP 2 REGIONAL FINDINGS"
   ]
  },
  {
   "cell_type": "code",
   "execution_count": 10,
   "metadata": {},
   "outputs": [
    {
     "data": {
      "text/html": [
       "<div>\n",
       "<style scoped>\n",
       "    .dataframe tbody tr th:only-of-type {\n",
       "        vertical-align: middle;\n",
       "    }\n",
       "\n",
       "    .dataframe tbody tr th {\n",
       "        vertical-align: top;\n",
       "    }\n",
       "\n",
       "    .dataframe thead th {\n",
       "        text-align: right;\n",
       "    }\n",
       "</style>\n",
       "<table border=\"1\" class=\"dataframe\">\n",
       "  <thead>\n",
       "    <tr style=\"text-align: right;\">\n",
       "      <th></th>\n",
       "      <th>Year</th>\n",
       "      <th>employment_by_thosands</th>\n",
       "      <th>percent_change</th>\n",
       "      <th>employment percent change since 2000</th>\n",
       "      <th>employment percent change since 2010</th>\n",
       "    </tr>\n",
       "  </thead>\n",
       "  <tbody>\n",
       "    <tr>\n",
       "      <th>0</th>\n",
       "      <td>2000</td>\n",
       "      <td>2182.150000</td>\n",
       "      <td>NaN</td>\n",
       "      <td>0.000000</td>\n",
       "      <td>-1.333660</td>\n",
       "    </tr>\n",
       "    <tr>\n",
       "      <th>1</th>\n",
       "      <td>2001</td>\n",
       "      <td>2175.204167</td>\n",
       "      <td>-0.318302</td>\n",
       "      <td>-0.318302</td>\n",
       "      <td>-1.647717</td>\n",
       "    </tr>\n",
       "    <tr>\n",
       "      <th>2</th>\n",
       "      <td>2002</td>\n",
       "      <td>2161.758333</td>\n",
       "      <td>-0.618141</td>\n",
       "      <td>-0.934476</td>\n",
       "      <td>-2.255673</td>\n",
       "    </tr>\n",
       "    <tr>\n",
       "      <th>3</th>\n",
       "      <td>2003</td>\n",
       "      <td>2155.370833</td>\n",
       "      <td>-0.295477</td>\n",
       "      <td>-1.227192</td>\n",
       "      <td>-2.544485</td>\n",
       "    </tr>\n",
       "    <tr>\n",
       "      <th>4</th>\n",
       "      <td>2004</td>\n",
       "      <td>2189.641667</td>\n",
       "      <td>1.590020</td>\n",
       "      <td>0.343316</td>\n",
       "      <td>-0.994923</td>\n",
       "    </tr>\n",
       "    <tr>\n",
       "      <th>5</th>\n",
       "      <td>2005</td>\n",
       "      <td>2231.597222</td>\n",
       "      <td>1.916092</td>\n",
       "      <td>2.265986</td>\n",
       "      <td>0.902106</td>\n",
       "    </tr>\n",
       "    <tr>\n",
       "      <th>6</th>\n",
       "      <td>2006</td>\n",
       "      <td>2278.756944</td>\n",
       "      <td>2.113272</td>\n",
       "      <td>4.427145</td>\n",
       "      <td>3.034442</td>\n",
       "    </tr>\n",
       "    <tr>\n",
       "      <th>7</th>\n",
       "      <td>2007</td>\n",
       "      <td>2313.358333</td>\n",
       "      <td>1.518433</td>\n",
       "      <td>6.012801</td>\n",
       "      <td>4.598951</td>\n",
       "    </tr>\n",
       "    <tr>\n",
       "      <th>8</th>\n",
       "      <td>2008</td>\n",
       "      <td>2310.079167</td>\n",
       "      <td>-0.141749</td>\n",
       "      <td>5.862529</td>\n",
       "      <td>4.450682</td>\n",
       "    </tr>\n",
       "    <tr>\n",
       "      <th>9</th>\n",
       "      <td>2009</td>\n",
       "      <td>2217.183333</td>\n",
       "      <td>-4.021327</td>\n",
       "      <td>1.605450</td>\n",
       "      <td>0.250379</td>\n",
       "    </tr>\n",
       "    <tr>\n",
       "      <th>10</th>\n",
       "      <td>2010</td>\n",
       "      <td>2211.645833</td>\n",
       "      <td>-0.249754</td>\n",
       "      <td>1.351687</td>\n",
       "      <td>0.000000</td>\n",
       "    </tr>\n",
       "    <tr>\n",
       "      <th>11</th>\n",
       "      <td>2011</td>\n",
       "      <td>2239.204167</td>\n",
       "      <td>1.246055</td>\n",
       "      <td>2.614585</td>\n",
       "      <td>1.246055</td>\n",
       "    </tr>\n",
       "    <tr>\n",
       "      <th>12</th>\n",
       "      <td>2012</td>\n",
       "      <td>2270.627778</td>\n",
       "      <td>1.403338</td>\n",
       "      <td>4.054615</td>\n",
       "      <td>2.666880</td>\n",
       "    </tr>\n",
       "    <tr>\n",
       "      <th>13</th>\n",
       "      <td>2013</td>\n",
       "      <td>2298.365278</td>\n",
       "      <td>1.221578</td>\n",
       "      <td>5.325724</td>\n",
       "      <td>3.921037</td>\n",
       "    </tr>\n",
       "    <tr>\n",
       "      <th>14</th>\n",
       "      <td>2014</td>\n",
       "      <td>2328.298611</td>\n",
       "      <td>1.302375</td>\n",
       "      <td>6.697459</td>\n",
       "      <td>5.274478</td>\n",
       "    </tr>\n",
       "    <tr>\n",
       "      <th>15</th>\n",
       "      <td>2015</td>\n",
       "      <td>2375.441667</td>\n",
       "      <td>2.024786</td>\n",
       "      <td>8.857854</td>\n",
       "      <td>7.406061</td>\n",
       "    </tr>\n",
       "    <tr>\n",
       "      <th>16</th>\n",
       "      <td>2016</td>\n",
       "      <td>2415.750000</td>\n",
       "      <td>1.696877</td>\n",
       "      <td>10.705039</td>\n",
       "      <td>9.228610</td>\n",
       "    </tr>\n",
       "    <tr>\n",
       "      <th>17</th>\n",
       "      <td>2017</td>\n",
       "      <td>2447.779167</td>\n",
       "      <td>1.325848</td>\n",
       "      <td>12.172819</td>\n",
       "      <td>10.676815</td>\n",
       "    </tr>\n",
       "    <tr>\n",
       "      <th>18</th>\n",
       "      <td>2018</td>\n",
       "      <td>2487.459722</td>\n",
       "      <td>1.621084</td>\n",
       "      <td>13.991234</td>\n",
       "      <td>12.470979</td>\n",
       "    </tr>\n",
       "    <tr>\n",
       "      <th>19</th>\n",
       "      <td>2019</td>\n",
       "      <td>2518.705556</td>\n",
       "      <td>1.256134</td>\n",
       "      <td>15.423117</td>\n",
       "      <td>13.883766</td>\n",
       "    </tr>\n",
       "    <tr>\n",
       "      <th>20</th>\n",
       "      <td>2020</td>\n",
       "      <td>2388.965278</td>\n",
       "      <td>-5.151070</td>\n",
       "      <td>9.477592</td>\n",
       "      <td>8.017533</td>\n",
       "    </tr>\n",
       "  </tbody>\n",
       "</table>\n",
       "</div>"
      ],
      "text/plain": [
       "    Year  employment_by_thosands  percent_change  \\\n",
       "0   2000             2182.150000             NaN   \n",
       "1   2001             2175.204167       -0.318302   \n",
       "2   2002             2161.758333       -0.618141   \n",
       "3   2003             2155.370833       -0.295477   \n",
       "4   2004             2189.641667        1.590020   \n",
       "5   2005             2231.597222        1.916092   \n",
       "6   2006             2278.756944        2.113272   \n",
       "7   2007             2313.358333        1.518433   \n",
       "8   2008             2310.079167       -0.141749   \n",
       "9   2009             2217.183333       -4.021327   \n",
       "10  2010             2211.645833       -0.249754   \n",
       "11  2011             2239.204167        1.246055   \n",
       "12  2012             2270.627778        1.403338   \n",
       "13  2013             2298.365278        1.221578   \n",
       "14  2014             2328.298611        1.302375   \n",
       "15  2015             2375.441667        2.024786   \n",
       "16  2016             2415.750000        1.696877   \n",
       "17  2017             2447.779167        1.325848   \n",
       "18  2018             2487.459722        1.621084   \n",
       "19  2019             2518.705556        1.256134   \n",
       "20  2020             2388.965278       -5.151070   \n",
       "\n",
       "    employment percent change since 2000  employment percent change since 2010  \n",
       "0                               0.000000                             -1.333660  \n",
       "1                              -0.318302                             -1.647717  \n",
       "2                              -0.934476                             -2.255673  \n",
       "3                              -1.227192                             -2.544485  \n",
       "4                               0.343316                             -0.994923  \n",
       "5                               2.265986                              0.902106  \n",
       "6                               4.427145                              3.034442  \n",
       "7                               6.012801                              4.598951  \n",
       "8                               5.862529                              4.450682  \n",
       "9                               1.605450                              0.250379  \n",
       "10                              1.351687                              0.000000  \n",
       "11                              2.614585                              1.246055  \n",
       "12                              4.054615                              2.666880  \n",
       "13                              5.325724                              3.921037  \n",
       "14                              6.697459                              5.274478  \n",
       "15                              8.857854                              7.406061  \n",
       "16                             10.705039                              9.228610  \n",
       "17                             12.172819                             10.676815  \n",
       "18                             13.991234                             12.470979  \n",
       "19                             15.423117                             13.883766  \n",
       "20                              9.477592                              8.017533  "
      ]
     },
     "execution_count": 10,
     "metadata": {},
     "output_type": "execute_result"
    }
   ],
   "source": [
    "region2_jobs"
   ]
  },
  {
   "cell_type": "code",
   "execution_count": 14,
   "metadata": {},
   "outputs": [],
   "source": [
    "region2_jobs.to_csv('../data/zip2.csv',index=False)"
   ]
  }
 ],
 "metadata": {
  "kernelspec": {
   "display_name": "base",
   "language": "python",
   "name": "python3"
  },
  "language_info": {
   "codemirror_mode": {
    "name": "ipython",
    "version": 3
   },
   "file_extension": ".py",
   "mimetype": "text/x-python",
   "name": "python",
   "nbconvert_exporter": "python",
   "pygments_lexer": "ipython3",
   "version": "3.9.13"
  },
  "orig_nbformat": 4
 },
 "nbformat": 4,
 "nbformat_minor": 2
}
