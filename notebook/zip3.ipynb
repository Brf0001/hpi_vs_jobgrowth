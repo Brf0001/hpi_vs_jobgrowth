{
 "cells": [
  {
   "cell_type": "code",
   "execution_count": 1,
   "metadata": {},
   "outputs": [],
   "source": [
    "import pandas as pd   \n",
    "import numpy as np\n",
    "import matplotlib.pyplot as plt\n",
    "import seaborn as sns"
   ]
  },
  {
   "attachments": {},
   "cell_type": "markdown",
   "metadata": {},
   "source": [
    "1. Import state employment data from years 2000-2020. All included states have zipcodes that begin with 3. "
   ]
  },
  {
   "cell_type": "code",
   "execution_count": 2,
   "metadata": {},
   "outputs": [
    {
     "name": "stderr",
     "output_type": "stream",
     "text": [
      "c:\\Users\\12564\\anaconda3\\lib\\site-packages\\openpyxl\\styles\\stylesheet.py:226: UserWarning: Workbook contains no default style, apply openpyxl's default\n",
      "  warn(\"Workbook contains no default style, apply openpyxl's default\")\n",
      "c:\\Users\\12564\\anaconda3\\lib\\site-packages\\openpyxl\\styles\\stylesheet.py:226: UserWarning: Workbook contains no default style, apply openpyxl's default\n",
      "  warn(\"Workbook contains no default style, apply openpyxl's default\")\n",
      "c:\\Users\\12564\\anaconda3\\lib\\site-packages\\openpyxl\\styles\\stylesheet.py:226: UserWarning: Workbook contains no default style, apply openpyxl's default\n",
      "  warn(\"Workbook contains no default style, apply openpyxl's default\")\n",
      "c:\\Users\\12564\\anaconda3\\lib\\site-packages\\openpyxl\\styles\\stylesheet.py:226: UserWarning: Workbook contains no default style, apply openpyxl's default\n",
      "  warn(\"Workbook contains no default style, apply openpyxl's default\")\n",
      "c:\\Users\\12564\\anaconda3\\lib\\site-packages\\openpyxl\\styles\\stylesheet.py:226: UserWarning: Workbook contains no default style, apply openpyxl's default\n",
      "  warn(\"Workbook contains no default style, apply openpyxl's default\")\n"
     ]
    }
   ],
   "source": [
    "AL_df = pd.read_excel('../data/3XXXX/al_jobs.xlsx', skiprows=12)\n",
    "FL_df = pd.read_excel('../data/3XXXX/fl_jobs.xlsx', skiprows=12)\n",
    "GA_df = pd.read_excel('../data/3XXXX/ga_jobs.xlsx', skiprows=12)\n",
    "MS_df = pd.read_excel('../data/3XXXX/ms_jobs.xlsx', skiprows=12)\n",
    "TN_df = pd.read_excel('../data/3XXXX/tn_jobs.xlsx', skiprows=12)"
   ]
  },
  {
   "attachments": {},
   "cell_type": "markdown",
   "metadata": {},
   "source": [
    "2. Combine all state employment numbers to a common dataframe for all states with 3XXXX."
   ]
  },
  {
   "cell_type": "code",
   "execution_count": 3,
   "metadata": {},
   "outputs": [],
   "source": [
    "combined_df = pd.concat([AL_df,FL_df,GA_df,MS_df,TN_df])"
   ]
  },
  {
   "attachments": {},
   "cell_type": "markdown",
   "metadata": {},
   "source": [
    "3. Group data by year, first step to find the mean for the region."
   ]
  },
  {
   "cell_type": "code",
   "execution_count": 4,
   "metadata": {},
   "outputs": [],
   "source": [
    "avg_job_growth = combined_df.groupby('Year').mean()"
   ]
  },
  {
   "attachments": {},
   "cell_type": "markdown",
   "metadata": {},
   "source": [
    "4. Perform a mean on the group by data to get final numbers. "
   ]
  },
  {
   "cell_type": "code",
   "execution_count": 5,
   "metadata": {},
   "outputs": [],
   "source": [
    "region3_jobs = avg_job_growth.mean(axis=1).reset_index()"
   ]
  },
  {
   "cell_type": "code",
   "execution_count": 6,
   "metadata": {},
   "outputs": [],
   "source": [
    "region3_jobs.columns.values[1]='employment_by_thosands'"
   ]
  },
  {
   "attachments": {},
   "cell_type": "markdown",
   "metadata": {},
   "source": [
    "5. Convert numbers into percentage change based on year by year values for better comparison to other regions. "
   ]
  },
  {
   "cell_type": "code",
   "execution_count": 7,
   "metadata": {},
   "outputs": [],
   "source": [
    "region3_jobs['percent_change'] = region3_jobs['employment_by_thosands'].pct_change()*100"
   ]
  },
  {
   "attachments": {},
   "cell_type": "markdown",
   "metadata": {},
   "source": [
    "6. Find percentage change from 2000 to 2010, 2010 to 2020, and 2000 to 2020"
   ]
  },
  {
   "cell_type": "code",
   "execution_count": 8,
   "metadata": {},
   "outputs": [],
   "source": [
    "region3_2000 = region3_jobs.iloc[0,1]\n",
    "region3_2010 = region3_jobs.iloc[10,1]\n",
    "region3_2020 = region3_jobs.iloc[20,1]"
   ]
  },
  {
   "cell_type": "code",
   "execution_count": 9,
   "metadata": {},
   "outputs": [],
   "source": [
    "region3_2000_2010_change = (region3_2010-region3_2000)/region3_2000 *100\n",
    "region3_2010_2020_change = (region3_2020-region3_2010)/region3_2010*100\n",
    "region3_20_year_change = (region3_2020-region3_2000)/region3_2000*100\n",
    "region3_jobs['employment percent change since 2000']=(region3_jobs['employment_by_thosands']-region3_jobs.iloc[0,1])/(region3_jobs.iloc[0,1])*100\n",
    "region3_jobs['employment percent change since 2010']=(region3_jobs['employment_by_thosands']-region3_jobs.iloc[10,1])/(region3_jobs.iloc[10,1])*100"
   ]
  },
  {
   "attachments": {},
   "cell_type": "markdown",
   "metadata": {},
   "source": [
    "ZIP 3 REGIONAL FINDINGS"
   ]
  },
  {
   "cell_type": "code",
   "execution_count": 10,
   "metadata": {},
   "outputs": [
    {
     "data": {
      "text/html": [
       "<div>\n",
       "<style scoped>\n",
       "    .dataframe tbody tr th:only-of-type {\n",
       "        vertical-align: middle;\n",
       "    }\n",
       "\n",
       "    .dataframe tbody tr th {\n",
       "        vertical-align: top;\n",
       "    }\n",
       "\n",
       "    .dataframe thead th {\n",
       "        text-align: right;\n",
       "    }\n",
       "</style>\n",
       "<table border=\"1\" class=\"dataframe\">\n",
       "  <thead>\n",
       "    <tr style=\"text-align: right;\">\n",
       "      <th></th>\n",
       "      <th>Year</th>\n",
       "      <th>employment_by_thosands</th>\n",
       "      <th>percent_change</th>\n",
       "      <th>employment percent change since 2000</th>\n",
       "      <th>employment percent change since 2010</th>\n",
       "    </tr>\n",
       "  </thead>\n",
       "  <tbody>\n",
       "    <tr>\n",
       "      <th>0</th>\n",
       "      <td>2000</td>\n",
       "      <td>3374.738333</td>\n",
       "      <td>NaN</td>\n",
       "      <td>0.000000</td>\n",
       "      <td>1.435486</td>\n",
       "    </tr>\n",
       "    <tr>\n",
       "      <th>1</th>\n",
       "      <td>2001</td>\n",
       "      <td>3372.950000</td>\n",
       "      <td>-0.052992</td>\n",
       "      <td>-0.052992</td>\n",
       "      <td>1.381734</td>\n",
       "    </tr>\n",
       "    <tr>\n",
       "      <th>2</th>\n",
       "      <td>2002</td>\n",
       "      <td>3348.611667</td>\n",
       "      <td>-0.721574</td>\n",
       "      <td>-0.774183</td>\n",
       "      <td>0.650189</td>\n",
       "    </tr>\n",
       "    <tr>\n",
       "      <th>3</th>\n",
       "      <td>2003</td>\n",
       "      <td>3355.396667</td>\n",
       "      <td>0.202621</td>\n",
       "      <td>-0.573131</td>\n",
       "      <td>0.854128</td>\n",
       "    </tr>\n",
       "    <tr>\n",
       "      <th>4</th>\n",
       "      <td>2004</td>\n",
       "      <td>3431.698333</td>\n",
       "      <td>2.273998</td>\n",
       "      <td>1.687835</td>\n",
       "      <td>3.147549</td>\n",
       "    </tr>\n",
       "    <tr>\n",
       "      <th>5</th>\n",
       "      <td>2005</td>\n",
       "      <td>3529.430000</td>\n",
       "      <td>2.847910</td>\n",
       "      <td>4.583812</td>\n",
       "      <td>6.085098</td>\n",
       "    </tr>\n",
       "    <tr>\n",
       "      <th>6</th>\n",
       "      <td>2006</td>\n",
       "      <td>3604.501667</td>\n",
       "      <td>2.127020</td>\n",
       "      <td>6.808330</td>\n",
       "      <td>8.341549</td>\n",
       "    </tr>\n",
       "    <tr>\n",
       "      <th>7</th>\n",
       "      <td>2007</td>\n",
       "      <td>3628.858333</td>\n",
       "      <td>0.675729</td>\n",
       "      <td>7.530065</td>\n",
       "      <td>9.073644</td>\n",
       "    </tr>\n",
       "    <tr>\n",
       "      <th>8</th>\n",
       "      <td>2008</td>\n",
       "      <td>3554.983333</td>\n",
       "      <td>-2.035764</td>\n",
       "      <td>5.341007</td>\n",
       "      <td>6.853162</td>\n",
       "    </tr>\n",
       "    <tr>\n",
       "      <th>9</th>\n",
       "      <td>2009</td>\n",
       "      <td>3351.186667</td>\n",
       "      <td>-5.732704</td>\n",
       "      <td>-0.697881</td>\n",
       "      <td>0.727587</td>\n",
       "    </tr>\n",
       "    <tr>\n",
       "      <th>10</th>\n",
       "      <td>2010</td>\n",
       "      <td>3326.980000</td>\n",
       "      <td>-0.722331</td>\n",
       "      <td>-1.415171</td>\n",
       "      <td>0.000000</td>\n",
       "    </tr>\n",
       "    <tr>\n",
       "      <th>11</th>\n",
       "      <td>2011</td>\n",
       "      <td>3360.733333</td>\n",
       "      <td>1.014534</td>\n",
       "      <td>-0.414995</td>\n",
       "      <td>1.014534</td>\n",
       "    </tr>\n",
       "    <tr>\n",
       "      <th>12</th>\n",
       "      <td>2012</td>\n",
       "      <td>3415.866667</td>\n",
       "      <td>1.640515</td>\n",
       "      <td>1.218712</td>\n",
       "      <td>2.671692</td>\n",
       "    </tr>\n",
       "    <tr>\n",
       "      <th>13</th>\n",
       "      <td>2013</td>\n",
       "      <td>3483.271667</td>\n",
       "      <td>1.973291</td>\n",
       "      <td>3.216052</td>\n",
       "      <td>4.697704</td>\n",
       "    </tr>\n",
       "    <tr>\n",
       "      <th>14</th>\n",
       "      <td>2014</td>\n",
       "      <td>3572.036667</td>\n",
       "      <td>2.548323</td>\n",
       "      <td>5.846330</td>\n",
       "      <td>7.365739</td>\n",
       "    </tr>\n",
       "    <tr>\n",
       "      <th>15</th>\n",
       "      <td>2015</td>\n",
       "      <td>3674.408333</td>\n",
       "      <td>2.865919</td>\n",
       "      <td>8.879800</td>\n",
       "      <td>10.442754</td>\n",
       "    </tr>\n",
       "    <tr>\n",
       "      <th>16</th>\n",
       "      <td>2016</td>\n",
       "      <td>3774.725000</td>\n",
       "      <td>2.730145</td>\n",
       "      <td>11.852376</td>\n",
       "      <td>13.458001</td>\n",
       "    </tr>\n",
       "    <tr>\n",
       "      <th>17</th>\n",
       "      <td>2017</td>\n",
       "      <td>3843.515000</td>\n",
       "      <td>1.822384</td>\n",
       "      <td>13.890756</td>\n",
       "      <td>15.525642</td>\n",
       "    </tr>\n",
       "    <tr>\n",
       "      <th>18</th>\n",
       "      <td>2018</td>\n",
       "      <td>3918.908333</td>\n",
       "      <td>1.961573</td>\n",
       "      <td>16.124806</td>\n",
       "      <td>17.791761</td>\n",
       "    </tr>\n",
       "    <tr>\n",
       "      <th>19</th>\n",
       "      <td>2019</td>\n",
       "      <td>3990.953333</td>\n",
       "      <td>1.838395</td>\n",
       "      <td>18.259638</td>\n",
       "      <td>19.957238</td>\n",
       "    </tr>\n",
       "    <tr>\n",
       "      <th>20</th>\n",
       "      <td>2020</td>\n",
       "      <td>3810.531667</td>\n",
       "      <td>-4.520766</td>\n",
       "      <td>12.913396</td>\n",
       "      <td>14.534252</td>\n",
       "    </tr>\n",
       "  </tbody>\n",
       "</table>\n",
       "</div>"
      ],
      "text/plain": [
       "    Year  employment_by_thosands  percent_change  \\\n",
       "0   2000             3374.738333             NaN   \n",
       "1   2001             3372.950000       -0.052992   \n",
       "2   2002             3348.611667       -0.721574   \n",
       "3   2003             3355.396667        0.202621   \n",
       "4   2004             3431.698333        2.273998   \n",
       "5   2005             3529.430000        2.847910   \n",
       "6   2006             3604.501667        2.127020   \n",
       "7   2007             3628.858333        0.675729   \n",
       "8   2008             3554.983333       -2.035764   \n",
       "9   2009             3351.186667       -5.732704   \n",
       "10  2010             3326.980000       -0.722331   \n",
       "11  2011             3360.733333        1.014534   \n",
       "12  2012             3415.866667        1.640515   \n",
       "13  2013             3483.271667        1.973291   \n",
       "14  2014             3572.036667        2.548323   \n",
       "15  2015             3674.408333        2.865919   \n",
       "16  2016             3774.725000        2.730145   \n",
       "17  2017             3843.515000        1.822384   \n",
       "18  2018             3918.908333        1.961573   \n",
       "19  2019             3990.953333        1.838395   \n",
       "20  2020             3810.531667       -4.520766   \n",
       "\n",
       "    employment percent change since 2000  employment percent change since 2010  \n",
       "0                               0.000000                              1.435486  \n",
       "1                              -0.052992                              1.381734  \n",
       "2                              -0.774183                              0.650189  \n",
       "3                              -0.573131                              0.854128  \n",
       "4                               1.687835                              3.147549  \n",
       "5                               4.583812                              6.085098  \n",
       "6                               6.808330                              8.341549  \n",
       "7                               7.530065                              9.073644  \n",
       "8                               5.341007                              6.853162  \n",
       "9                              -0.697881                              0.727587  \n",
       "10                             -1.415171                              0.000000  \n",
       "11                             -0.414995                              1.014534  \n",
       "12                              1.218712                              2.671692  \n",
       "13                              3.216052                              4.697704  \n",
       "14                              5.846330                              7.365739  \n",
       "15                              8.879800                             10.442754  \n",
       "16                             11.852376                             13.458001  \n",
       "17                             13.890756                             15.525642  \n",
       "18                             16.124806                             17.791761  \n",
       "19                             18.259638                             19.957238  \n",
       "20                             12.913396                             14.534252  "
      ]
     },
     "execution_count": 10,
     "metadata": {},
     "output_type": "execute_result"
    }
   ],
   "source": [
    "region3_jobs"
   ]
  },
  {
   "cell_type": "code",
   "execution_count": 11,
   "metadata": {},
   "outputs": [],
   "source": [
    "region3_jobs.to_csv('../data/zip3.csv',index=False)"
   ]
  }
 ],
 "metadata": {
  "kernelspec": {
   "display_name": "base",
   "language": "python",
   "name": "python3"
  },
  "language_info": {
   "codemirror_mode": {
    "name": "ipython",
    "version": 3
   },
   "file_extension": ".py",
   "mimetype": "text/x-python",
   "name": "python",
   "nbconvert_exporter": "python",
   "pygments_lexer": "ipython3",
   "version": "3.9.13"
  },
  "orig_nbformat": 4
 },
 "nbformat": 4,
 "nbformat_minor": 2
}
