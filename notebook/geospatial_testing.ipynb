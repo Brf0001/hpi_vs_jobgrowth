{
 "cells": [
  {
   "cell_type": "code",
   "execution_count": 1,
   "metadata": {},
   "outputs": [],
   "source": [
    "from shapely.geometry import Point\n",
    "import pandas as pd\n",
    "import geopandas as gpd\n",
    "import matplotlib.pyplot as plt\n",
    "import folium\n",
    "from folium.plugins import MarkerCluster\n",
    "from folium.plugins import FastMarkerCluster"
   ]
  },
  {
   "cell_type": "code",
   "execution_count": 2,
   "metadata": {},
   "outputs": [],
   "source": [
    "gdf = gpd.read_file('../data/ne_10m_admin_1_states_provinces.zip')"
   ]
  },
  {
   "cell_type": "code",
   "execution_count": 5,
   "metadata": {},
   "outputs": [
    {
     "data": {
      "text/plain": [
       "<bound method DataFrame.info of                     featurecla  scalerank adm1_code  diss_me iso_3166_2   \n",
       "0     Admin-1 states provinces          3  ARG-1309     1309       AR-E  \\\n",
       "1     Admin-1 states provinces          6     URY-8        8      UY-PA   \n",
       "2     Admin-1 states provinces          2  IDN-1185     1185      ID-KI   \n",
       "3     Admin-1 states provinces          6  MYS-1186     1186      MY-12   \n",
       "4     Admin-1 states provinces          3  CHL-2694     2694      CL-AP   \n",
       "...                        ...        ...       ...      ...        ...   \n",
       "4591  Admin-1 states provinces         10  MLT-5953     5953      MT-20   \n",
       "4592  Admin-1 states provinces         10  MLT-5955     5955      MT-06   \n",
       "4593  Admin-1 states provinces         10  MLT-5942     5942      MT-41   \n",
       "4594  Admin-1 states provinces         10  MLT-5940     5940      MT-34   \n",
       "4595  Admin-1 states provinces         10  MLT-5951     5951      MT-03   \n",
       "\n",
       "     wikipedia iso_a2  adm0_sr                name            name_alt  ...   \n",
       "0          NaN     AR        1          Entre Ríos          Entre-Rios  ...  \\\n",
       "1          NaN     UY        1            Paysandú                 NaN  ...   \n",
       "2          NaN     ID        5    Kalimantan Timur              Kaltim  ...   \n",
       "3          NaN     MY        5               Sabah        North Borneo  ...   \n",
       "4          NaN     CL        1  Arica y Parinacota                 NaN  ...   \n",
       "...        ...    ...      ...                 ...                 ...  ...   \n",
       "4591       NaN     MT        3                Isla  Isla|Città Invicta  ...   \n",
       "4592       NaN     MT        3            Cospicua              Bormla  ...   \n",
       "4593       NaN     MT        3               Pietà                 NaN  ...   \n",
       "4594       NaN     MT        3               Msida                 NaN  ...   \n",
       "4595       NaN     MT        3               Birgu                 NaN  ...   \n",
       "\n",
       "     FCLASS_ID FCLASS_PL FCLASS_GR FCLASS_IT FCLASS_NL FCLASS_SE FCLASS_BD   \n",
       "0          NaN       NaN       NaN       NaN       NaN       NaN       NaN  \\\n",
       "1          NaN       NaN       NaN       NaN       NaN       NaN       NaN   \n",
       "2          NaN       NaN       NaN       NaN       NaN       NaN       NaN   \n",
       "3          NaN       NaN       NaN       NaN       NaN       NaN       NaN   \n",
       "4          NaN       NaN       NaN       NaN       NaN       NaN       NaN   \n",
       "...        ...       ...       ...       ...       ...       ...       ...   \n",
       "4591       NaN       NaN       NaN       NaN       NaN       NaN       NaN   \n",
       "4592       NaN       NaN       NaN       NaN       NaN       NaN       NaN   \n",
       "4593       NaN       NaN       NaN       NaN       NaN       NaN       NaN   \n",
       "4594       NaN       NaN       NaN       NaN       NaN       NaN       NaN   \n",
       "4595       NaN       NaN       NaN       NaN       NaN       NaN       NaN   \n",
       "\n",
       "     FCLASS_UA FCLASS_TLC                                           geometry  \n",
       "0          NaN        NaN  POLYGON ((-58.20011 -32.44713, -58.20012 -32.4...  \n",
       "1          NaN        NaN  POLYGON ((-58.20012 -32.44720, -58.20011 -32.4...  \n",
       "2          NaN        NaN  MULTIPOLYGON (((117.70361 4.16341, 117.70361 4...  \n",
       "3          NaN        NaN  MULTIPOLYGON (((117.70361 4.16341, 117.70361 4...  \n",
       "4          NaN        NaN  POLYGON ((-69.51009 -17.50659, -69.50611 -17.5...  \n",
       "...        ...        ...                                                ...  \n",
       "4591       NaN        NaN  POLYGON ((14.51073 35.88896, 14.51537 35.89113...  \n",
       "4592       NaN        NaN  POLYGON ((14.52937 35.88156, 14.52700 35.87772...  \n",
       "4593       NaN        NaN  POLYGON ((14.49801 35.89251, 14.49616 35.88830...  \n",
       "4594       NaN        NaN  POLYGON ((14.48663 35.88636, 14.48231 35.88979...  \n",
       "4595       NaN        NaN  POLYGON ((14.52126 35.88711, 14.51537 35.89113...  \n",
       "\n",
       "[4596 rows x 122 columns]>"
      ]
     },
     "execution_count": 5,
     "metadata": {},
     "output_type": "execute_result"
    }
   ],
   "source": [
    "gdf.info"
   ]
  },
  {
   "cell_type": "code",
   "execution_count": null,
   "metadata": {},
   "outputs": [],
   "source": []
  }
 ],
 "metadata": {
  "kernelspec": {
   "display_name": "gpd",
   "language": "python",
   "name": "python3"
  },
  "language_info": {
   "codemirror_mode": {
    "name": "ipython",
    "version": 3
   },
   "file_extension": ".py",
   "mimetype": "text/x-python",
   "name": "python",
   "nbconvert_exporter": "python",
   "pygments_lexer": "ipython3",
   "version": "3.10.10"
  },
  "orig_nbformat": 4
 },
 "nbformat": 4,
 "nbformat_minor": 2
}
