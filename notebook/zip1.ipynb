{
 "cells": [
  {
   "cell_type": "code",
   "execution_count": 17,
   "metadata": {},
   "outputs": [],
   "source": [
    "import pandas as pd   \n",
    "import numpy as np\n",
    "import matplotlib.pyplot as plt\n",
    "import seaborn as sns"
   ]
  },
  {
   "attachments": {},
   "cell_type": "markdown",
   "metadata": {},
   "source": [
    "1. Import state employment data from years 2000-2020. All included states have zipcodes that begin with 1. "
   ]
  },
  {
   "cell_type": "code",
   "execution_count": 18,
   "metadata": {},
   "outputs": [
    {
     "name": "stderr",
     "output_type": "stream",
     "text": [
      "c:\\Users\\12564\\anaconda3\\lib\\site-packages\\openpyxl\\styles\\stylesheet.py:226: UserWarning: Workbook contains no default style, apply openpyxl's default\n",
      "  warn(\"Workbook contains no default style, apply openpyxl's default\")\n",
      "c:\\Users\\12564\\anaconda3\\lib\\site-packages\\openpyxl\\styles\\stylesheet.py:226: UserWarning: Workbook contains no default style, apply openpyxl's default\n",
      "  warn(\"Workbook contains no default style, apply openpyxl's default\")\n",
      "c:\\Users\\12564\\anaconda3\\lib\\site-packages\\openpyxl\\styles\\stylesheet.py:226: UserWarning: Workbook contains no default style, apply openpyxl's default\n",
      "  warn(\"Workbook contains no default style, apply openpyxl's default\")\n"
     ]
    }
   ],
   "source": [
    "DE_df = pd.read_excel('../data/1XXXX/delware_jobs.xlsx', skiprows=12)\n",
    "NY_df = pd.read_excel('../data/1XXXX/new_york_jobs.xlsx', skiprows=12)\n",
    "PA_df = pd.read_excel('../data/1XXXX/pennsylvania_jobs.xlsx', skiprows=12)"
   ]
  },
  {
   "attachments": {},
   "cell_type": "markdown",
   "metadata": {},
   "source": [
    "2. Combine all state employment numbers to a common dataframe for all states with 1XXXX."
   ]
  },
  {
   "cell_type": "code",
   "execution_count": 19,
   "metadata": {},
   "outputs": [],
   "source": [
    "combined_df = pd.concat([DE_df,NY_df,PA_df])"
   ]
  },
  {
   "attachments": {},
   "cell_type": "markdown",
   "metadata": {},
   "source": [
    "3. Group data by year, first step to find the mean for the region."
   ]
  },
  {
   "cell_type": "code",
   "execution_count": 20,
   "metadata": {},
   "outputs": [],
   "source": [
    "avg_job_growth = combined_df.groupby('Year').mean()"
   ]
  },
  {
   "attachments": {},
   "cell_type": "markdown",
   "metadata": {},
   "source": [
    "4. Perform a mean on the group by data to get final numbers. "
   ]
  },
  {
   "cell_type": "code",
   "execution_count": 21,
   "metadata": {},
   "outputs": [],
   "source": [
    "region1_jobs = avg_job_growth.mean(axis=1).reset_index()"
   ]
  },
  {
   "cell_type": "code",
   "execution_count": 22,
   "metadata": {},
   "outputs": [],
   "source": [
    "region1_jobs.columns.values[1]='employment_by_thosands'"
   ]
  },
  {
   "attachments": {},
   "cell_type": "markdown",
   "metadata": {},
   "source": [
    "5. Convert numbers into percentage change based on year by year values for better comparison to other regions. "
   ]
  },
  {
   "cell_type": "code",
   "execution_count": 23,
   "metadata": {},
   "outputs": [],
   "source": [
    "region1_jobs['percent_change'] = region1_jobs['employment_by_thosands'].pct_change()*100"
   ]
  },
  {
   "attachments": {},
   "cell_type": "markdown",
   "metadata": {},
   "source": [
    "6. Find percentage change from 2000 to 2010, 2010 to 2020, and 2000 to 2020"
   ]
  },
  {
   "cell_type": "code",
   "execution_count": 24,
   "metadata": {},
   "outputs": [],
   "source": [
    "region1_2000 = region1_jobs.iloc[0,1]\n",
    "region1_2010 = region1_jobs.iloc[10,1]\n",
    "region1_2020 = region1_jobs.iloc[20,1]"
   ]
  },
  {
   "cell_type": "code",
   "execution_count": 25,
   "metadata": {},
   "outputs": [],
   "source": [
    "region1_2000_2010_change = (region1_2010-region1_2000)/region1_2000 *100\n",
    "region1_2010_2020_change = (region1_2020-region1_2010)/region1_2010*100\n",
    "region1_20_year_change = (region1_2020-region1_2000)/region1_2000*100\n",
    "region1_jobs['employment percent change since 2000']=(region1_jobs['employment_by_thosands']-region1_jobs.iloc[0,1])/(region1_jobs.iloc[0,1])*100\n",
    "region1_jobs['employment percent change since 2010']=(region1_jobs['employment_by_thosands']-region1_jobs.iloc[10,1])/(region1_jobs.iloc[10,1])*100"
   ]
  },
  {
   "attachments": {},
   "cell_type": "markdown",
   "metadata": {},
   "source": [
    "ZIP 1 REGIONAL FINDINGS"
   ]
  },
  {
   "cell_type": "code",
   "execution_count": 26,
   "metadata": {},
   "outputs": [
    {
     "data": {
      "text/html": [
       "<div>\n",
       "<style scoped>\n",
       "    .dataframe tbody tr th:only-of-type {\n",
       "        vertical-align: middle;\n",
       "    }\n",
       "\n",
       "    .dataframe tbody tr th {\n",
       "        vertical-align: top;\n",
       "    }\n",
       "\n",
       "    .dataframe thead th {\n",
       "        text-align: right;\n",
       "    }\n",
       "</style>\n",
       "<table border=\"1\" class=\"dataframe\">\n",
       "  <thead>\n",
       "    <tr style=\"text-align: right;\">\n",
       "      <th></th>\n",
       "      <th>Year</th>\n",
       "      <th>employment_by_thosands</th>\n",
       "      <th>percent_change</th>\n",
       "      <th>employment percent change since 2000</th>\n",
       "      <th>employment percent change since 2010</th>\n",
       "    </tr>\n",
       "  </thead>\n",
       "  <tbody>\n",
       "    <tr>\n",
       "      <th>0</th>\n",
       "      <td>2000</td>\n",
       "      <td>4910.766667</td>\n",
       "      <td>NaN</td>\n",
       "      <td>0.000000</td>\n",
       "      <td>1.044813</td>\n",
       "    </tr>\n",
       "    <tr>\n",
       "      <th>1</th>\n",
       "      <td>2001</td>\n",
       "      <td>4893.455556</td>\n",
       "      <td>-0.352513</td>\n",
       "      <td>-0.352513</td>\n",
       "      <td>0.688616</td>\n",
       "    </tr>\n",
       "    <tr>\n",
       "      <th>2</th>\n",
       "      <td>2002</td>\n",
       "      <td>4835.683333</td>\n",
       "      <td>-1.180602</td>\n",
       "      <td>-1.528953</td>\n",
       "      <td>-0.500115</td>\n",
       "    </tr>\n",
       "    <tr>\n",
       "      <th>3</th>\n",
       "      <td>2003</td>\n",
       "      <td>4809.038889</td>\n",
       "      <td>-0.550996</td>\n",
       "      <td>-2.071525</td>\n",
       "      <td>-1.048356</td>\n",
       "    </tr>\n",
       "    <tr>\n",
       "      <th>4</th>\n",
       "      <td>2004</td>\n",
       "      <td>4840.230556</td>\n",
       "      <td>0.648605</td>\n",
       "      <td>-1.436356</td>\n",
       "      <td>-0.406551</td>\n",
       "    </tr>\n",
       "    <tr>\n",
       "      <th>5</th>\n",
       "      <td>2005</td>\n",
       "      <td>4885.941667</td>\n",
       "      <td>0.944399</td>\n",
       "      <td>-0.505522</td>\n",
       "      <td>0.534009</td>\n",
       "    </tr>\n",
       "    <tr>\n",
       "      <th>6</th>\n",
       "      <td>2006</td>\n",
       "      <td>4933.105556</td>\n",
       "      <td>0.965298</td>\n",
       "      <td>0.454896</td>\n",
       "      <td>1.504462</td>\n",
       "    </tr>\n",
       "    <tr>\n",
       "      <th>7</th>\n",
       "      <td>2007</td>\n",
       "      <td>4985.727778</td>\n",
       "      <td>1.066716</td>\n",
       "      <td>1.526465</td>\n",
       "      <td>2.587226</td>\n",
       "    </tr>\n",
       "    <tr>\n",
       "      <th>8</th>\n",
       "      <td>2008</td>\n",
       "      <td>5005.097222</td>\n",
       "      <td>0.388498</td>\n",
       "      <td>1.920893</td>\n",
       "      <td>2.985775</td>\n",
       "    </tr>\n",
       "    <tr>\n",
       "      <th>9</th>\n",
       "      <td>2009</td>\n",
       "      <td>4857.347222</td>\n",
       "      <td>-2.951991</td>\n",
       "      <td>-1.087803</td>\n",
       "      <td>-0.054355</td>\n",
       "    </tr>\n",
       "    <tr>\n",
       "      <th>10</th>\n",
       "      <td>2010</td>\n",
       "      <td>4859.988889</td>\n",
       "      <td>0.054385</td>\n",
       "      <td>-1.034009</td>\n",
       "      <td>0.000000</td>\n",
       "    </tr>\n",
       "    <tr>\n",
       "      <th>11</th>\n",
       "      <td>2011</td>\n",
       "      <td>4931.336111</td>\n",
       "      <td>1.468053</td>\n",
       "      <td>0.418864</td>\n",
       "      <td>1.468053</td>\n",
       "    </tr>\n",
       "    <tr>\n",
       "      <th>12</th>\n",
       "      <td>2012</td>\n",
       "      <td>4988.508333</td>\n",
       "      <td>1.159366</td>\n",
       "      <td>1.583086</td>\n",
       "      <td>2.644439</td>\n",
       "    </tr>\n",
       "    <tr>\n",
       "      <th>13</th>\n",
       "      <td>2013</td>\n",
       "      <td>5042.230556</td>\n",
       "      <td>1.076920</td>\n",
       "      <td>2.677054</td>\n",
       "      <td>3.749837</td>\n",
       "    </tr>\n",
       "    <tr>\n",
       "      <th>14</th>\n",
       "      <td>2014</td>\n",
       "      <td>5116.350000</td>\n",
       "      <td>1.469973</td>\n",
       "      <td>4.186380</td>\n",
       "      <td>5.274932</td>\n",
       "    </tr>\n",
       "    <tr>\n",
       "      <th>15</th>\n",
       "      <td>2015</td>\n",
       "      <td>5190.761111</td>\n",
       "      <td>1.454379</td>\n",
       "      <td>5.701644</td>\n",
       "      <td>6.806028</td>\n",
       "    </tr>\n",
       "    <tr>\n",
       "      <th>16</th>\n",
       "      <td>2016</td>\n",
       "      <td>5256.525000</td>\n",
       "      <td>1.266941</td>\n",
       "      <td>7.040822</td>\n",
       "      <td>8.159198</td>\n",
       "    </tr>\n",
       "    <tr>\n",
       "      <th>17</th>\n",
       "      <td>2017</td>\n",
       "      <td>5320.138889</td>\n",
       "      <td>1.210189</td>\n",
       "      <td>8.336218</td>\n",
       "      <td>9.468129</td>\n",
       "    </tr>\n",
       "    <tr>\n",
       "      <th>18</th>\n",
       "      <td>2018</td>\n",
       "      <td>5385.958333</td>\n",
       "      <td>1.237175</td>\n",
       "      <td>9.676527</td>\n",
       "      <td>10.822441</td>\n",
       "    </tr>\n",
       "    <tr>\n",
       "      <th>19</th>\n",
       "      <td>2019</td>\n",
       "      <td>5440.691667</td>\n",
       "      <td>1.016223</td>\n",
       "      <td>10.791085</td>\n",
       "      <td>11.948644</td>\n",
       "    </tr>\n",
       "    <tr>\n",
       "      <th>20</th>\n",
       "      <td>2020</td>\n",
       "      <td>4952.447222</td>\n",
       "      <td>-8.973941</td>\n",
       "      <td>0.848759</td>\n",
       "      <td>1.902439</td>\n",
       "    </tr>\n",
       "  </tbody>\n",
       "</table>\n",
       "</div>"
      ],
      "text/plain": [
       "    Year  employment_by_thosands  percent_change  \\\n",
       "0   2000             4910.766667             NaN   \n",
       "1   2001             4893.455556       -0.352513   \n",
       "2   2002             4835.683333       -1.180602   \n",
       "3   2003             4809.038889       -0.550996   \n",
       "4   2004             4840.230556        0.648605   \n",
       "5   2005             4885.941667        0.944399   \n",
       "6   2006             4933.105556        0.965298   \n",
       "7   2007             4985.727778        1.066716   \n",
       "8   2008             5005.097222        0.388498   \n",
       "9   2009             4857.347222       -2.951991   \n",
       "10  2010             4859.988889        0.054385   \n",
       "11  2011             4931.336111        1.468053   \n",
       "12  2012             4988.508333        1.159366   \n",
       "13  2013             5042.230556        1.076920   \n",
       "14  2014             5116.350000        1.469973   \n",
       "15  2015             5190.761111        1.454379   \n",
       "16  2016             5256.525000        1.266941   \n",
       "17  2017             5320.138889        1.210189   \n",
       "18  2018             5385.958333        1.237175   \n",
       "19  2019             5440.691667        1.016223   \n",
       "20  2020             4952.447222       -8.973941   \n",
       "\n",
       "    employment percent change since 2000  employment percent change since 2010  \n",
       "0                               0.000000                              1.044813  \n",
       "1                              -0.352513                              0.688616  \n",
       "2                              -1.528953                             -0.500115  \n",
       "3                              -2.071525                             -1.048356  \n",
       "4                              -1.436356                             -0.406551  \n",
       "5                              -0.505522                              0.534009  \n",
       "6                               0.454896                              1.504462  \n",
       "7                               1.526465                              2.587226  \n",
       "8                               1.920893                              2.985775  \n",
       "9                              -1.087803                             -0.054355  \n",
       "10                             -1.034009                              0.000000  \n",
       "11                              0.418864                              1.468053  \n",
       "12                              1.583086                              2.644439  \n",
       "13                              2.677054                              3.749837  \n",
       "14                              4.186380                              5.274932  \n",
       "15                              5.701644                              6.806028  \n",
       "16                              7.040822                              8.159198  \n",
       "17                              8.336218                              9.468129  \n",
       "18                              9.676527                             10.822441  \n",
       "19                             10.791085                             11.948644  \n",
       "20                              0.848759                              1.902439  "
      ]
     },
     "execution_count": 26,
     "metadata": {},
     "output_type": "execute_result"
    }
   ],
   "source": [
    "region1_jobs"
   ]
  },
  {
   "cell_type": "code",
   "execution_count": 27,
   "metadata": {},
   "outputs": [],
   "source": [
    "region1_jobs.to_csv('../data/zip1.csv',index=False)"
   ]
  }
 ],
 "metadata": {
  "kernelspec": {
   "display_name": "base",
   "language": "python",
   "name": "python3"
  },
  "language_info": {
   "codemirror_mode": {
    "name": "ipython",
    "version": 3
   },
   "file_extension": ".py",
   "mimetype": "text/x-python",
   "name": "python",
   "nbconvert_exporter": "python",
   "pygments_lexer": "ipython3",
   "version": "3.9.13"
  },
  "orig_nbformat": 4
 },
 "nbformat": 4,
 "nbformat_minor": 2
}
