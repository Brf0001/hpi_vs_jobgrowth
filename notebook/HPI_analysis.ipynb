{
 "cells": [
  {
   "cell_type": "code",
   "execution_count": 1,
   "metadata": {},
   "outputs": [],
   "source": [
    "import pandas as pd   \n",
    "import numpy as np\n",
    "import matplotlib.pyplot as plt\n",
    "import seaborn as sns"
   ]
  },
  {
   "attachments": {},
   "cell_type": "markdown",
   "metadata": {},
   "source": [
    "1. Import data and convert the three digit ZIP to a string as to not lose any leading zeros."
   ]
  },
  {
   "cell_type": "code",
   "execution_count": 2,
   "metadata": {},
   "outputs": [],
   "source": [
    "dtype_dict = {'Three-Digit ZIP Code': str}"
   ]
  },
  {
   "cell_type": "code",
   "execution_count": 3,
   "metadata": {},
   "outputs": [],
   "source": [
    "hpi_zip_df = pd.read_excel('../data/hpi_zip3.xlsx', skiprows=6, dtype=dtype_dict)"
   ]
  },
  {
   "attachments": {},
   "cell_type": "markdown",
   "metadata": {},
   "source": [
    "2. Create dataframe that focuses on the years being studied."
   ]
  },
  {
   "cell_type": "code",
   "execution_count": 4,
   "metadata": {},
   "outputs": [],
   "source": [
    "hpi_20s = hpi_zip_df[(hpi_zip_df['Year']>= 2000)&(hpi_zip_df['Year']<=2020)]"
   ]
  },
  {
   "attachments": {},
   "cell_type": "markdown",
   "metadata": {},
   "source": [
    "3. Change data types in dataframe to be able to use the numbers."
   ]
  },
  {
   "cell_type": "code",
   "execution_count": 5,
   "metadata": {},
   "outputs": [
    {
     "name": "stderr",
     "output_type": "stream",
     "text": [
      "C:\\Users\\12564\\AppData\\Local\\Temp\\ipykernel_23204\\3950337914.py:1: SettingWithCopyWarning: \n",
      "A value is trying to be set on a copy of a slice from a DataFrame.\n",
      "Try using .loc[row_indexer,col_indexer] = value instead\n",
      "\n",
      "See the caveats in the documentation: https://pandas.pydata.org/pandas-docs/stable/user_guide/indexing.html#returning-a-view-versus-a-copy\n",
      "  hpi_20s['Annual Change (%)']= pd.to_numeric(hpi_20s['Annual Change (%)'], errors='coerce')\n",
      "C:\\Users\\12564\\AppData\\Local\\Temp\\ipykernel_23204\\3950337914.py:2: SettingWithCopyWarning: \n",
      "A value is trying to be set on a copy of a slice from a DataFrame.\n",
      "Try using .loc[row_indexer,col_indexer] = value instead\n",
      "\n",
      "See the caveats in the documentation: https://pandas.pydata.org/pandas-docs/stable/user_guide/indexing.html#returning-a-view-versus-a-copy\n",
      "  hpi_20s['HPI with 2000 base']= pd.to_numeric(hpi_20s['HPI with 2000 base'], errors='coerce')\n",
      "C:\\Users\\12564\\AppData\\Local\\Temp\\ipykernel_23204\\3950337914.py:3: SettingWithCopyWarning: \n",
      "A value is trying to be set on a copy of a slice from a DataFrame.\n",
      "Try using .loc[row_indexer,col_indexer] = value instead\n",
      "\n",
      "See the caveats in the documentation: https://pandas.pydata.org/pandas-docs/stable/user_guide/indexing.html#returning-a-view-versus-a-copy\n",
      "  hpi_20s['HPI']= pd.to_numeric(hpi_20s['HPI'], errors='coerce')\n",
      "C:\\Users\\12564\\AppData\\Local\\Temp\\ipykernel_23204\\3950337914.py:4: SettingWithCopyWarning: \n",
      "A value is trying to be set on a copy of a slice from a DataFrame.\n",
      "Try using .loc[row_indexer,col_indexer] = value instead\n",
      "\n",
      "See the caveats in the documentation: https://pandas.pydata.org/pandas-docs/stable/user_guide/indexing.html#returning-a-view-versus-a-copy\n",
      "  hpi_20s['one-digit ZIP'] = hpi_20s['Three-Digit ZIP Code'].str[0]\n"
     ]
    }
   ],
   "source": [
    "hpi_20s['Annual Change (%)']= pd.to_numeric(hpi_20s['Annual Change (%)'], errors='coerce')\n",
    "hpi_20s['HPI with 2000 base']= pd.to_numeric(hpi_20s['HPI with 2000 base'], errors='coerce')\n",
    "hpi_20s['HPI']= pd.to_numeric(hpi_20s['HPI'], errors='coerce')\n",
    "hpi_20s['one-digit ZIP'] = hpi_20s['Three-Digit ZIP Code'].str[0]"
   ]
  },
  {
   "attachments": {},
   "cell_type": "markdown",
   "metadata": {},
   "source": [
    "4. Create several groupbys to get the means for the years based on the one-digit Zip."
   ]
  },
  {
   "cell_type": "code",
   "execution_count": 6,
   "metadata": {},
   "outputs": [],
   "source": [
    "hpi_pct_avg_20s = hpi_20s.groupby(['one-digit ZIP','Year'])['Annual Change (%)'].mean().reset_index()\n",
    "hpi_avg_20s = hpi_20s.groupby(['one-digit ZIP','Year'])['HPI'].mean().reset_index()\n",
    "hpi2000base_avg_20s = hpi_20s.groupby(['one-digit ZIP','Year'])['HPI with 2000 base'].mean().reset_index()"
   ]
  },
  {
   "attachments": {},
   "cell_type": "markdown",
   "metadata": {},
   "source": [
    "5. Create common dataframe with all numbers including percent change since 2000. (All HPI for all regions reset at 100 for year 2000)"
   ]
  },
  {
   "cell_type": "code",
   "execution_count": 7,
   "metadata": {},
   "outputs": [],
   "source": [
    "base2010=hpi2000base_avg_20s.loc[hpi2000base_avg_20s['Year']==2010,'HPI with 2000 base']"
   ]
  },
  {
   "cell_type": "code",
   "execution_count": 8,
   "metadata": {},
   "outputs": [],
   "source": [
    "hpi2000base_avg_20s['HPI']= hpi_avg_20s['HPI']\n",
    "hpi2000base_avg_20s['Annual Change (%)'] = hpi_pct_avg_20s['Annual Change (%)']\n",
    "hpi2000base_avg_20s['Percent change since 2000'] =(hpi2000base_avg_20s['HPI with 2000 base']-100)/(100) *100\n",
    "hpi2000base_avg_20s['HPI year by year percent change since 2000'] = hpi2000base_avg_20s['HPI with 2000 base'].pct_change()*100"
   ]
  },
  {
   "cell_type": "code",
   "execution_count": 9,
   "metadata": {},
   "outputs": [],
   "source": [
    "hpi0=hpi2000base_avg_20s[hpi2000base_avg_20s['one-digit ZIP']=='0']\n",
    "hpi1=hpi2000base_avg_20s[hpi2000base_avg_20s['one-digit ZIP']=='1']\n",
    "hpi2=hpi2000base_avg_20s[hpi2000base_avg_20s['one-digit ZIP']=='2']\n",
    "hpi3=hpi2000base_avg_20s[hpi2000base_avg_20s['one-digit ZIP']=='3']\n",
    "hpi4=hpi2000base_avg_20s[hpi2000base_avg_20s['one-digit ZIP']=='4']\n",
    "hpi5=hpi2000base_avg_20s[hpi2000base_avg_20s['one-digit ZIP']=='5']\n",
    "hpi6=hpi2000base_avg_20s[hpi2000base_avg_20s['one-digit ZIP']=='6']\n",
    "hpi7=hpi2000base_avg_20s[hpi2000base_avg_20s['one-digit ZIP']=='7']\n",
    "hpi8=hpi2000base_avg_20s[hpi2000base_avg_20s['one-digit ZIP']=='8']\n",
    "hpi9=hpi2000base_avg_20s[hpi2000base_avg_20s['one-digit ZIP']=='9']"
   ]
  },
  {
   "cell_type": "code",
   "execution_count": 10,
   "metadata": {},
   "outputs": [],
   "source": [
    "hpi0=hpi0.replace('0','new england')\n",
    "hpi1=hpi1.replace('1','northeast')\n",
    "hpi2=hpi2.replace('2','mid atlantic')\n",
    "hpi3=hpi3.replace('3','southeast')\n",
    "hpi4=hpi4.replace('4','midwest')\n",
    "hpi5=hpi5.replace('5','northern plains')\n",
    "hpi6=hpi6.replace('6','plains')\n",
    "hpi7=hpi7.replace('7','south central')\n",
    "hpi8=hpi8.replace('8','western')\n",
    "hpi9=hpi9.replace('9','pacific')"
   ]
  },
  {
   "cell_type": "code",
   "execution_count": 11,
   "metadata": {},
   "outputs": [],
   "source": [
    "hpi0['Percent change since 2010'] =(hpi0['HPI with 2000 base']-hpi0.iloc[10,2])/(hpi0.iloc[10,2]) *100\n",
    "hpi1['Percent change since 2010'] =(hpi1['HPI with 2000 base']-hpi1.iloc[10,2])/(hpi1.iloc[10,2]) *100\n",
    "hpi2['Percent change since 2010'] =(hpi2['HPI with 2000 base']-hpi2.iloc[10,2])/(hpi2.iloc[10,2]) *100\n",
    "hpi3['Percent change since 2010'] =(hpi3['HPI with 2000 base']-hpi3.iloc[10,2])/(hpi3.iloc[10,2]) *100\n",
    "hpi4['Percent change since 2010'] =(hpi4['HPI with 2000 base']-hpi4.iloc[10,2])/(hpi4.iloc[10,2]) *100\n",
    "hpi5['Percent change since 2010'] =(hpi5['HPI with 2000 base']-hpi5.iloc[10,2])/(hpi5.iloc[10,2]) *100\n",
    "hpi6['Percent change since 2010'] =(hpi6['HPI with 2000 base']-hpi6.iloc[10,2])/(hpi6.iloc[10,2]) *100\n",
    "hpi7['Percent change since 2010'] =(hpi7['HPI with 2000 base']-hpi7.iloc[10,2])/(hpi7.iloc[10,2]) *100\n",
    "hpi8['Percent change since 2010'] =(hpi8['HPI with 2000 base']-hpi8.iloc[10,2])/(hpi8.iloc[10,2]) *100\n",
    "hpi9['Percent change since 2010'] =(hpi9['HPI with 2000 base']-hpi9.iloc[10,2])/(hpi9.iloc[10,2]) *100"
   ]
  },
  {
   "cell_type": "code",
   "execution_count": 18,
   "metadata": {},
   "outputs": [],
   "source": [
    "hpi0['zip']='0'\n",
    "hpi1['zip']='1'\n",
    "hpi2['zip']='2'\n",
    "hpi3['zip']='3'\n",
    "hpi4['zip']='4'\n",
    "hpi5['zip']='5'\n",
    "hpi6['zip']='6'\n",
    "hpi7['zip']='7'\n",
    "hpi8['zip']='8'\n",
    "hpi9['zip']='9'"
   ]
  },
  {
   "cell_type": "code",
   "execution_count": 19,
   "metadata": {},
   "outputs": [],
   "source": [
    "corrected_hpi2000base_avg_20s = pd.concat([hpi0,hpi1,hpi2,hpi3,hpi4,hpi5,hpi6,hpi7,hpi8,hpi9])"
   ]
  },
  {
   "attachments": {},
   "cell_type": "markdown",
   "metadata": {},
   "source": [
    "7. Save file as .csv file for comparison."
   ]
  },
  {
   "cell_type": "code",
   "execution_count": 20,
   "metadata": {},
   "outputs": [],
   "source": [
    "corrected_hpi2000base_avg_20s.to_csv('../data/corrected_hpi_2000-2020.csv',index=False)"
   ]
  },
  {
   "cell_type": "code",
   "execution_count": null,
   "metadata": {},
   "outputs": [],
   "source": []
  }
 ],
 "metadata": {
  "kernelspec": {
   "display_name": "base",
   "language": "python",
   "name": "python3"
  },
  "language_info": {
   "codemirror_mode": {
    "name": "ipython",
    "version": 3
   },
   "file_extension": ".py",
   "mimetype": "text/x-python",
   "name": "python",
   "nbconvert_exporter": "python",
   "pygments_lexer": "ipython3",
   "version": "3.9.13"
  },
  "orig_nbformat": 4
 },
 "nbformat": 4,
 "nbformat_minor": 2
}
