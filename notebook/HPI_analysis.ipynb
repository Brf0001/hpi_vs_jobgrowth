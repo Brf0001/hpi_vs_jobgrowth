{
 "cells": [
  {
   "cell_type": "code",
   "execution_count": 1,
   "metadata": {},
   "outputs": [],
   "source": [
    "import pandas as pd   \n",
    "import numpy as np\n",
    "import matplotlib.pyplot as plt\n",
    "import seaborn as sns"
   ]
  },
  {
   "attachments": {},
   "cell_type": "markdown",
   "metadata": {},
   "source": [
    "1. Import data and convert the three digit ZIP to a string as to not lose any leading zeros."
   ]
  },
  {
   "cell_type": "code",
   "execution_count": 2,
   "metadata": {},
   "outputs": [],
   "source": [
    "dtype_dict = {'Three-Digit ZIP Code': str}"
   ]
  },
  {
   "cell_type": "code",
   "execution_count": 3,
   "metadata": {},
   "outputs": [],
   "source": [
    "hpi_zip_df = pd.read_excel('../data/hpi_zip3.xlsx', skiprows=6, dtype=dtype_dict)"
   ]
  },
  {
   "attachments": {},
   "cell_type": "markdown",
   "metadata": {},
   "source": [
    "2. Create dataframe that focuses on the years being studied."
   ]
  },
  {
   "cell_type": "code",
   "execution_count": 4,
   "metadata": {},
   "outputs": [],
   "source": [
    "hpi_20s = hpi_zip_df[(hpi_zip_df['Year']>= 2000)&(hpi_zip_df['Year']<=2020)]"
   ]
  },
  {
   "attachments": {},
   "cell_type": "markdown",
   "metadata": {},
   "source": [
    "3. Change data types in dataframe to be able to use the numbers."
   ]
  },
  {
   "cell_type": "code",
   "execution_count": 5,
   "metadata": {},
   "outputs": [
    {
     "name": "stderr",
     "output_type": "stream",
     "text": [
      "C:\\Users\\12564\\AppData\\Local\\Temp\\ipykernel_3132\\3950337914.py:1: SettingWithCopyWarning: \n",
      "A value is trying to be set on a copy of a slice from a DataFrame.\n",
      "Try using .loc[row_indexer,col_indexer] = value instead\n",
      "\n",
      "See the caveats in the documentation: https://pandas.pydata.org/pandas-docs/stable/user_guide/indexing.html#returning-a-view-versus-a-copy\n",
      "  hpi_20s['Annual Change (%)']= pd.to_numeric(hpi_20s['Annual Change (%)'], errors='coerce')\n",
      "C:\\Users\\12564\\AppData\\Local\\Temp\\ipykernel_3132\\3950337914.py:2: SettingWithCopyWarning: \n",
      "A value is trying to be set on a copy of a slice from a DataFrame.\n",
      "Try using .loc[row_indexer,col_indexer] = value instead\n",
      "\n",
      "See the caveats in the documentation: https://pandas.pydata.org/pandas-docs/stable/user_guide/indexing.html#returning-a-view-versus-a-copy\n",
      "  hpi_20s['HPI with 2000 base']= pd.to_numeric(hpi_20s['HPI with 2000 base'], errors='coerce')\n",
      "C:\\Users\\12564\\AppData\\Local\\Temp\\ipykernel_3132\\3950337914.py:3: SettingWithCopyWarning: \n",
      "A value is trying to be set on a copy of a slice from a DataFrame.\n",
      "Try using .loc[row_indexer,col_indexer] = value instead\n",
      "\n",
      "See the caveats in the documentation: https://pandas.pydata.org/pandas-docs/stable/user_guide/indexing.html#returning-a-view-versus-a-copy\n",
      "  hpi_20s['HPI']= pd.to_numeric(hpi_20s['HPI'], errors='coerce')\n",
      "C:\\Users\\12564\\AppData\\Local\\Temp\\ipykernel_3132\\3950337914.py:4: SettingWithCopyWarning: \n",
      "A value is trying to be set on a copy of a slice from a DataFrame.\n",
      "Try using .loc[row_indexer,col_indexer] = value instead\n",
      "\n",
      "See the caveats in the documentation: https://pandas.pydata.org/pandas-docs/stable/user_guide/indexing.html#returning-a-view-versus-a-copy\n",
      "  hpi_20s['one-digit ZIP'] = hpi_20s['Three-Digit ZIP Code'].str[0]\n"
     ]
    }
   ],
   "source": [
    "hpi_20s['Annual Change (%)']= pd.to_numeric(hpi_20s['Annual Change (%)'], errors='coerce')\n",
    "hpi_20s['HPI with 2000 base']= pd.to_numeric(hpi_20s['HPI with 2000 base'], errors='coerce')\n",
    "hpi_20s['HPI']= pd.to_numeric(hpi_20s['HPI'], errors='coerce')\n",
    "hpi_20s['one-digit ZIP'] = hpi_20s['Three-Digit ZIP Code'].str[0]"
   ]
  },
  {
   "attachments": {},
   "cell_type": "markdown",
   "metadata": {},
   "source": [
    "4. Create several groupbys to get the means for the years based on the one-digit Zip."
   ]
  },
  {
   "cell_type": "code",
   "execution_count": 6,
   "metadata": {},
   "outputs": [],
   "source": [
    "hpi_pct_avg_20s = hpi_20s.groupby(['one-digit ZIP','Year'])['Annual Change (%)'].mean().reset_index()\n",
    "hpi_avg_20s = hpi_20s.groupby(['one-digit ZIP','Year'])['HPI'].mean().reset_index()\n",
    "hpi2000base_avg_20s = hpi_20s.groupby(['one-digit ZIP','Year'])['HPI with 2000 base'].mean().reset_index()"
   ]
  },
  {
   "attachments": {},
   "cell_type": "markdown",
   "metadata": {},
   "source": [
    "5. Create common dataframe with all numbers including percent change since 2000. (All HPI for all regions reset at 100 for year 2000)"
   ]
  },
  {
   "cell_type": "code",
   "execution_count": 7,
   "metadata": {},
   "outputs": [],
   "source": [
    "base2010=hpi2000base_avg_20s.loc[hpi2000base_avg_20s['Year']==2010,'HPI with 2000 base']"
   ]
  },
  {
   "cell_type": "code",
   "execution_count": 8,
   "metadata": {},
   "outputs": [],
   "source": [
    "hpi2000base_avg_20s['HPI']= hpi_avg_20s['HPI']\n",
    "hpi2000base_avg_20s['Annual Change (%)'] = hpi_pct_avg_20s['Annual Change (%)']\n",
    "hpi2000base_avg_20s['Percent change since 2000'] =(hpi2000base_avg_20s['HPI with 2000 base']-100)/(100) *100\n",
    "hpi2000base_avg_20s['HPI year by year percent change since 2000'] = hpi2000base_avg_20s['HPI with 2000 base'].pct_change()*100"
   ]
  },
  {
   "cell_type": "code",
   "execution_count": 9,
   "metadata": {},
   "outputs": [],
   "source": [
    "hpi0=hpi2000base_avg_20s[hpi2000base_avg_20s['one-digit ZIP']=='0']\n",
    "hpi1=hpi2000base_avg_20s[hpi2000base_avg_20s['one-digit ZIP']=='1']\n",
    "hpi2=hpi2000base_avg_20s[hpi2000base_avg_20s['one-digit ZIP']=='2']\n",
    "hpi3=hpi2000base_avg_20s[hpi2000base_avg_20s['one-digit ZIP']=='3']\n",
    "hpi4=hpi2000base_avg_20s[hpi2000base_avg_20s['one-digit ZIP']=='4']\n",
    "hpi5=hpi2000base_avg_20s[hpi2000base_avg_20s['one-digit ZIP']=='5']\n",
    "hpi6=hpi2000base_avg_20s[hpi2000base_avg_20s['one-digit ZIP']=='6']\n",
    "hpi7=hpi2000base_avg_20s[hpi2000base_avg_20s['one-digit ZIP']=='7']\n",
    "hpi8=hpi2000base_avg_20s[hpi2000base_avg_20s['one-digit ZIP']=='8']\n",
    "hpi9=hpi2000base_avg_20s[hpi2000base_avg_20s['one-digit ZIP']=='9']"
   ]
  },
  {
   "cell_type": "code",
   "execution_count": 10,
   "metadata": {},
   "outputs": [],
   "source": [
    "hpi0=hpi0.replace('0','new england')\n",
    "hpi1=hpi1.replace('1','northeast')\n",
    "hpi2=hpi2.replace('2','mid atlantic')\n",
    "hpi3=hpi3.replace('3','southeast')\n",
    "hpi4=hpi4.replace('4','midwest')\n",
    "hpi5=hpi5.replace('5','northern plains')\n",
    "hpi6=hpi6.replace('6','plains')\n",
    "hpi7=hpi7.replace('7','south central')\n",
    "hpi8=hpi8.replace('8','western')\n",
    "hpi9=hpi9.replace('9','pacific')"
   ]
  },
  {
   "cell_type": "code",
   "execution_count": 11,
   "metadata": {},
   "outputs": [],
   "source": [
    "hpi0['Percent change since 2010'] =(hpi0['HPI with 2000 base']-hpi0.iloc[10,2])/(hpi0.iloc[10,2]) *100\n",
    "hpi1['Percent change since 2010'] =(hpi1['HPI with 2000 base']-hpi1.iloc[10,2])/(hpi1.iloc[10,2]) *100\n",
    "hpi2['Percent change since 2010'] =(hpi2['HPI with 2000 base']-hpi2.iloc[10,2])/(hpi2.iloc[10,2]) *100\n",
    "hpi3['Percent change since 2010'] =(hpi3['HPI with 2000 base']-hpi3.iloc[10,2])/(hpi3.iloc[10,2]) *100\n",
    "hpi4['Percent change since 2010'] =(hpi4['HPI with 2000 base']-hpi4.iloc[10,2])/(hpi4.iloc[10,2]) *100\n",
    "hpi5['Percent change since 2010'] =(hpi5['HPI with 2000 base']-hpi5.iloc[10,2])/(hpi5.iloc[10,2]) *100\n",
    "hpi6['Percent change since 2010'] =(hpi6['HPI with 2000 base']-hpi6.iloc[10,2])/(hpi6.iloc[10,2]) *100\n",
    "hpi7['Percent change since 2010'] =(hpi7['HPI with 2000 base']-hpi7.iloc[10,2])/(hpi7.iloc[10,2]) *100\n",
    "hpi8['Percent change since 2010'] =(hpi8['HPI with 2000 base']-hpi8.iloc[10,2])/(hpi8.iloc[10,2]) *100\n",
    "hpi9['Percent change since 2010'] =(hpi9['HPI with 2000 base']-hpi9.iloc[10,2])/(hpi9.iloc[10,2]) *100"
   ]
  },
  {
   "cell_type": "code",
   "execution_count": 12,
   "metadata": {},
   "outputs": [],
   "source": [
    "corrected_hpi2000base_avg_20s = pd.concat([hpi0,hpi1,hpi2,hpi3,hpi4,hpi5,hpi6,hpi7,hpi8,hpi9])"
   ]
  },
  {
   "attachments": {},
   "cell_type": "markdown",
   "metadata": {},
   "source": [
    "7. Save file as .csv file for comparison."
   ]
  },
  {
   "cell_type": "code",
   "execution_count": 13,
   "metadata": {},
   "outputs": [],
   "source": [
    "corrected_hpi2000base_avg_20s.to_csv('../data/corrected_hpi_2000-2020.csv',index=False)"
   ]
  },
  {
   "cell_type": "code",
   "execution_count": 14,
   "metadata": {},
   "outputs": [
    {
     "data": {
      "text/html": [
       "<div>\n",
       "<style scoped>\n",
       "    .dataframe tbody tr th:only-of-type {\n",
       "        vertical-align: middle;\n",
       "    }\n",
       "\n",
       "    .dataframe tbody tr th {\n",
       "        vertical-align: top;\n",
       "    }\n",
       "\n",
       "    .dataframe thead th {\n",
       "        text-align: right;\n",
       "    }\n",
       "</style>\n",
       "<table border=\"1\" class=\"dataframe\">\n",
       "  <thead>\n",
       "    <tr style=\"text-align: right;\">\n",
       "      <th></th>\n",
       "      <th>one-digit ZIP</th>\n",
       "      <th>Year</th>\n",
       "      <th>HPI with 2000 base</th>\n",
       "      <th>HPI</th>\n",
       "      <th>Annual Change (%)</th>\n",
       "      <th>Percent change since 2000</th>\n",
       "      <th>HPI year by year percent change since 2000</th>\n",
       "      <th>Percent change since 2010</th>\n",
       "    </tr>\n",
       "  </thead>\n",
       "  <tbody>\n",
       "    <tr>\n",
       "      <th>0</th>\n",
       "      <td>new england</td>\n",
       "      <td>2000</td>\n",
       "      <td>100.000000</td>\n",
       "      <td>362.011688</td>\n",
       "      <td>10.674545</td>\n",
       "      <td>0.000000</td>\n",
       "      <td>NaN</td>\n",
       "      <td>-33.770619</td>\n",
       "    </tr>\n",
       "    <tr>\n",
       "      <th>1</th>\n",
       "      <td>new england</td>\n",
       "      <td>2001</td>\n",
       "      <td>109.081169</td>\n",
       "      <td>396.925455</td>\n",
       "      <td>9.081169</td>\n",
       "      <td>9.081169</td>\n",
       "      <td>9.081169</td>\n",
       "      <td>-27.756217</td>\n",
       "    </tr>\n",
       "    <tr>\n",
       "      <th>2</th>\n",
       "      <td>new england</td>\n",
       "      <td>2002</td>\n",
       "      <td>119.488961</td>\n",
       "      <td>436.928961</td>\n",
       "      <td>9.494416</td>\n",
       "      <td>19.488961</td>\n",
       "      <td>9.541328</td>\n",
       "      <td>-20.863201</td>\n",
       "    </tr>\n",
       "    <tr>\n",
       "      <th>3</th>\n",
       "      <td>new england</td>\n",
       "      <td>2003</td>\n",
       "      <td>128.511558</td>\n",
       "      <td>465.643462</td>\n",
       "      <td>7.492987</td>\n",
       "      <td>28.511558</td>\n",
       "      <td>7.550988</td>\n",
       "      <td>-14.887591</td>\n",
       "    </tr>\n",
       "    <tr>\n",
       "      <th>4</th>\n",
       "      <td>new england</td>\n",
       "      <td>2004</td>\n",
       "      <td>145.091299</td>\n",
       "      <td>524.491154</td>\n",
       "      <td>12.855769</td>\n",
       "      <td>45.091299</td>\n",
       "      <td>12.901361</td>\n",
       "      <td>-3.906931</td>\n",
       "    </tr>\n",
       "    <tr>\n",
       "      <th>...</th>\n",
       "      <td>...</td>\n",
       "      <td>...</td>\n",
       "      <td>...</td>\n",
       "      <td>...</td>\n",
       "      <td>...</td>\n",
       "      <td>...</td>\n",
       "      <td>...</td>\n",
       "      <td>...</td>\n",
       "    </tr>\n",
       "    <tr>\n",
       "      <th>205</th>\n",
       "      <td>pacific</td>\n",
       "      <td>2016</td>\n",
       "      <td>193.916591</td>\n",
       "      <td>979.643977</td>\n",
       "      <td>7.909773</td>\n",
       "      <td>93.916591</td>\n",
       "      <td>7.955119</td>\n",
       "      <td>30.434543</td>\n",
       "    </tr>\n",
       "    <tr>\n",
       "      <th>206</th>\n",
       "      <td>pacific</td>\n",
       "      <td>2017</td>\n",
       "      <td>206.816705</td>\n",
       "      <td>1043.760909</td>\n",
       "      <td>6.795114</td>\n",
       "      <td>106.816705</td>\n",
       "      <td>6.652403</td>\n",
       "      <td>39.111575</td>\n",
       "    </tr>\n",
       "    <tr>\n",
       "      <th>207</th>\n",
       "      <td>pacific</td>\n",
       "      <td>2018</td>\n",
       "      <td>222.095568</td>\n",
       "      <td>1122.624886</td>\n",
       "      <td>7.370909</td>\n",
       "      <td>122.095568</td>\n",
       "      <td>7.387635</td>\n",
       "      <td>49.388631</td>\n",
       "    </tr>\n",
       "    <tr>\n",
       "      <th>208</th>\n",
       "      <td>pacific</td>\n",
       "      <td>2019</td>\n",
       "      <td>230.280000</td>\n",
       "      <td>1157.207045</td>\n",
       "      <td>3.873750</td>\n",
       "      <td>130.280000</td>\n",
       "      <td>3.685095</td>\n",
       "      <td>54.893743</td>\n",
       "    </tr>\n",
       "    <tr>\n",
       "      <th>209</th>\n",
       "      <td>pacific</td>\n",
       "      <td>2020</td>\n",
       "      <td>236.302386</td>\n",
       "      <td>1177.330341</td>\n",
       "      <td>2.724205</td>\n",
       "      <td>136.302386</td>\n",
       "      <td>2.615245</td>\n",
       "      <td>58.944594</td>\n",
       "    </tr>\n",
       "  </tbody>\n",
       "</table>\n",
       "<p>210 rows × 8 columns</p>\n",
       "</div>"
      ],
      "text/plain": [
       "    one-digit ZIP  Year  HPI with 2000 base          HPI  Annual Change (%)  \\\n",
       "0     new england  2000          100.000000   362.011688          10.674545   \n",
       "1     new england  2001          109.081169   396.925455           9.081169   \n",
       "2     new england  2002          119.488961   436.928961           9.494416   \n",
       "3     new england  2003          128.511558   465.643462           7.492987   \n",
       "4     new england  2004          145.091299   524.491154          12.855769   \n",
       "..            ...   ...                 ...          ...                ...   \n",
       "205       pacific  2016          193.916591   979.643977           7.909773   \n",
       "206       pacific  2017          206.816705  1043.760909           6.795114   \n",
       "207       pacific  2018          222.095568  1122.624886           7.370909   \n",
       "208       pacific  2019          230.280000  1157.207045           3.873750   \n",
       "209       pacific  2020          236.302386  1177.330341           2.724205   \n",
       "\n",
       "     Percent change since 2000  HPI year by year percent change since 2000  \\\n",
       "0                     0.000000                                         NaN   \n",
       "1                     9.081169                                    9.081169   \n",
       "2                    19.488961                                    9.541328   \n",
       "3                    28.511558                                    7.550988   \n",
       "4                    45.091299                                   12.901361   \n",
       "..                         ...                                         ...   \n",
       "205                  93.916591                                    7.955119   \n",
       "206                 106.816705                                    6.652403   \n",
       "207                 122.095568                                    7.387635   \n",
       "208                 130.280000                                    3.685095   \n",
       "209                 136.302386                                    2.615245   \n",
       "\n",
       "     Percent change since 2010  \n",
       "0                   -33.770619  \n",
       "1                   -27.756217  \n",
       "2                   -20.863201  \n",
       "3                   -14.887591  \n",
       "4                    -3.906931  \n",
       "..                         ...  \n",
       "205                  30.434543  \n",
       "206                  39.111575  \n",
       "207                  49.388631  \n",
       "208                  54.893743  \n",
       "209                  58.944594  \n",
       "\n",
       "[210 rows x 8 columns]"
      ]
     },
     "execution_count": 14,
     "metadata": {},
     "output_type": "execute_result"
    }
   ],
   "source": [
    "corrected_hpi2000base_avg_20s"
   ]
  },
  {
   "cell_type": "code",
   "execution_count": null,
   "metadata": {},
   "outputs": [],
   "source": []
  }
 ],
 "metadata": {
  "kernelspec": {
   "display_name": "base",
   "language": "python",
   "name": "python3"
  },
  "language_info": {
   "codemirror_mode": {
    "name": "ipython",
    "version": 3
   },
   "file_extension": ".py",
   "mimetype": "text/x-python",
   "name": "python",
   "nbconvert_exporter": "python",
   "pygments_lexer": "ipython3",
   "version": "3.9.13"
  },
  "orig_nbformat": 4
 },
 "nbformat": 4,
 "nbformat_minor": 2
}
