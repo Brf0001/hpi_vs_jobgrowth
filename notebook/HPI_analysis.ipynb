{
 "cells": [
  {
   "cell_type": "code",
   "execution_count": 2,
   "metadata": {},
   "outputs": [],
   "source": [
    "import pandas as pd   \n",
    "import numpy as np\n",
    "import matplotlib.pyplot as plt\n",
    "import seaborn as sns"
   ]
  },
  {
   "attachments": {},
   "cell_type": "markdown",
   "metadata": {},
   "source": [
    "1. Import data and convert the three digit ZIP to a string as to not lose any leading zeros."
   ]
  },
  {
   "cell_type": "code",
   "execution_count": 3,
   "metadata": {},
   "outputs": [],
   "source": [
    "dtype_dict = {'Three-Digit ZIP Code': str}"
   ]
  },
  {
   "cell_type": "code",
   "execution_count": 4,
   "metadata": {},
   "outputs": [],
   "source": [
    "hpi_zip_df = pd.read_excel('../data/hpi_zip3.xlsx', skiprows=6, dtype=dtype_dict)"
   ]
  },
  {
   "attachments": {},
   "cell_type": "markdown",
   "metadata": {},
   "source": [
    "2. Create dataframe that focuses on the years being studied."
   ]
  },
  {
   "cell_type": "code",
   "execution_count": 5,
   "metadata": {},
   "outputs": [],
   "source": [
    "hpi_20s = hpi_zip_df[(hpi_zip_df['Year']>= 2000)&(hpi_zip_df['Year']<=2020)]"
   ]
  },
  {
   "attachments": {},
   "cell_type": "markdown",
   "metadata": {},
   "source": [
    "3. Change data types in dataframe to be able to use the numbers."
   ]
  },
  {
   "cell_type": "code",
   "execution_count": 6,
   "metadata": {},
   "outputs": [
    {
     "name": "stderr",
     "output_type": "stream",
     "text": [
      "C:\\Users\\12564\\AppData\\Local\\Temp\\ipykernel_1984\\3950337914.py:1: SettingWithCopyWarning: \n",
      "A value is trying to be set on a copy of a slice from a DataFrame.\n",
      "Try using .loc[row_indexer,col_indexer] = value instead\n",
      "\n",
      "See the caveats in the documentation: https://pandas.pydata.org/pandas-docs/stable/user_guide/indexing.html#returning-a-view-versus-a-copy\n",
      "  hpi_20s['Annual Change (%)']= pd.to_numeric(hpi_20s['Annual Change (%)'], errors='coerce')\n",
      "C:\\Users\\12564\\AppData\\Local\\Temp\\ipykernel_1984\\3950337914.py:2: SettingWithCopyWarning: \n",
      "A value is trying to be set on a copy of a slice from a DataFrame.\n",
      "Try using .loc[row_indexer,col_indexer] = value instead\n",
      "\n",
      "See the caveats in the documentation: https://pandas.pydata.org/pandas-docs/stable/user_guide/indexing.html#returning-a-view-versus-a-copy\n",
      "  hpi_20s['HPI with 2000 base']= pd.to_numeric(hpi_20s['HPI with 2000 base'], errors='coerce')\n",
      "C:\\Users\\12564\\AppData\\Local\\Temp\\ipykernel_1984\\3950337914.py:3: SettingWithCopyWarning: \n",
      "A value is trying to be set on a copy of a slice from a DataFrame.\n",
      "Try using .loc[row_indexer,col_indexer] = value instead\n",
      "\n",
      "See the caveats in the documentation: https://pandas.pydata.org/pandas-docs/stable/user_guide/indexing.html#returning-a-view-versus-a-copy\n",
      "  hpi_20s['HPI']= pd.to_numeric(hpi_20s['HPI'], errors='coerce')\n",
      "C:\\Users\\12564\\AppData\\Local\\Temp\\ipykernel_1984\\3950337914.py:4: SettingWithCopyWarning: \n",
      "A value is trying to be set on a copy of a slice from a DataFrame.\n",
      "Try using .loc[row_indexer,col_indexer] = value instead\n",
      "\n",
      "See the caveats in the documentation: https://pandas.pydata.org/pandas-docs/stable/user_guide/indexing.html#returning-a-view-versus-a-copy\n",
      "  hpi_20s['one-digit ZIP'] = hpi_20s['Three-Digit ZIP Code'].str[0]\n"
     ]
    }
   ],
   "source": [
    "hpi_20s['Annual Change (%)']= pd.to_numeric(hpi_20s['Annual Change (%)'], errors='coerce')\n",
    "hpi_20s['HPI with 2000 base']= pd.to_numeric(hpi_20s['HPI with 2000 base'], errors='coerce')\n",
    "hpi_20s['HPI']= pd.to_numeric(hpi_20s['HPI'], errors='coerce')\n",
    "hpi_20s['one-digit ZIP'] = hpi_20s['Three-Digit ZIP Code'].str[0]"
   ]
  },
  {
   "attachments": {},
   "cell_type": "markdown",
   "metadata": {},
   "source": [
    "4. Create several groupbys to get the means for the years based on the one-digit Zip."
   ]
  },
  {
   "cell_type": "code",
   "execution_count": 7,
   "metadata": {},
   "outputs": [],
   "source": [
    "hpi_pct_avg_20s = hpi_20s.groupby(['one-digit ZIP','Year'])['Annual Change (%)'].mean().reset_index()\n",
    "hpi_avg_20s = hpi_20s.groupby(['one-digit ZIP','Year'])['HPI'].mean().reset_index()\n",
    "hpi2000base_avg_20s = hpi_20s.groupby(['one-digit ZIP','Year'])['HPI with 2000 base'].mean().reset_index()"
   ]
  },
  {
   "attachments": {},
   "cell_type": "markdown",
   "metadata": {},
   "source": [
    "5. Create common dataframe with all numbers including percent change since 2000. (All HPI for all regions reset at 100 for year 2000)"
   ]
  },
  {
   "cell_type": "code",
   "execution_count": 8,
   "metadata": {},
   "outputs": [],
   "source": [
    "base2010=hpi2000base_avg_20s.loc[hpi2000base_avg_20s['Year']==2010,'HPI with 2000 base']"
   ]
  },
  {
   "cell_type": "code",
   "execution_count": 9,
   "metadata": {},
   "outputs": [
    {
     "data": {
      "text/plain": [
       "10     150.990390\n",
       "31     147.346979\n",
       "52     144.264396\n",
       "73     128.020222\n",
       "94     110.667634\n",
       "115    136.424884\n",
       "136    124.230814\n",
       "157    137.524333\n",
       "178    138.590000\n",
       "199    148.669659\n",
       "Name: HPI with 2000 base, dtype: float64"
      ]
     },
     "execution_count": 9,
     "metadata": {},
     "output_type": "execute_result"
    }
   ],
   "source": [
    "base2010"
   ]
  },
  {
   "cell_type": "code",
   "execution_count": 11,
   "metadata": {},
   "outputs": [],
   "source": [
    "hpi2000base_avg_20s['HPI']= hpi_avg_20s['HPI']\n",
    "hpi2000base_avg_20s['Annual Change (%)'] = hpi_pct_avg_20s['Annual Change (%)']\n",
    "hpi2000base_avg_20s['Percent change since 2000'] =(hpi2000base_avg_20s['HPI with 2000 base']-100)/(100) *100\n",
    "hpi2000base_avg_20s['Percent change since 2010'] =(hpi2000base_avg_20s['HPI with 2000 base']-base2010)/(base2010) *100\n",
    "hpi2000base_avg_20s['HPI year by year percent change since 2000'] = hpi2000base_avg_20s['HPI with 2000 base'].pct_change()*100"
   ]
  },
  {
   "cell_type": "code",
   "execution_count": 13,
   "metadata": {},
   "outputs": [
    {
     "data": {
      "text/html": [
       "<div>\n",
       "<style scoped>\n",
       "    .dataframe tbody tr th:only-of-type {\n",
       "        vertical-align: middle;\n",
       "    }\n",
       "\n",
       "    .dataframe tbody tr th {\n",
       "        vertical-align: top;\n",
       "    }\n",
       "\n",
       "    .dataframe thead th {\n",
       "        text-align: right;\n",
       "    }\n",
       "</style>\n",
       "<table border=\"1\" class=\"dataframe\">\n",
       "  <thead>\n",
       "    <tr style=\"text-align: right;\">\n",
       "      <th></th>\n",
       "      <th>one-digit ZIP</th>\n",
       "      <th>Year</th>\n",
       "      <th>HPI with 2000 base</th>\n",
       "      <th>HPI</th>\n",
       "      <th>Annual Change (%)</th>\n",
       "      <th>Percent change since 2000</th>\n",
       "      <th>Percent change since 2010</th>\n",
       "      <th>HPI year by year percent change since 2000</th>\n",
       "    </tr>\n",
       "  </thead>\n",
       "  <tbody>\n",
       "    <tr>\n",
       "      <th>0</th>\n",
       "      <td>0</td>\n",
       "      <td>2000</td>\n",
       "      <td>100.000000</td>\n",
       "      <td>362.011688</td>\n",
       "      <td>10.674545</td>\n",
       "      <td>0.000000</td>\n",
       "      <td>NaN</td>\n",
       "      <td>NaN</td>\n",
       "    </tr>\n",
       "    <tr>\n",
       "      <th>1</th>\n",
       "      <td>0</td>\n",
       "      <td>2001</td>\n",
       "      <td>109.081169</td>\n",
       "      <td>396.925455</td>\n",
       "      <td>9.081169</td>\n",
       "      <td>9.081169</td>\n",
       "      <td>NaN</td>\n",
       "      <td>9.081169</td>\n",
       "    </tr>\n",
       "    <tr>\n",
       "      <th>2</th>\n",
       "      <td>0</td>\n",
       "      <td>2002</td>\n",
       "      <td>119.488961</td>\n",
       "      <td>436.928961</td>\n",
       "      <td>9.494416</td>\n",
       "      <td>19.488961</td>\n",
       "      <td>NaN</td>\n",
       "      <td>9.541328</td>\n",
       "    </tr>\n",
       "    <tr>\n",
       "      <th>3</th>\n",
       "      <td>0</td>\n",
       "      <td>2003</td>\n",
       "      <td>128.511558</td>\n",
       "      <td>465.643462</td>\n",
       "      <td>7.492987</td>\n",
       "      <td>28.511558</td>\n",
       "      <td>NaN</td>\n",
       "      <td>7.550988</td>\n",
       "    </tr>\n",
       "    <tr>\n",
       "      <th>4</th>\n",
       "      <td>0</td>\n",
       "      <td>2004</td>\n",
       "      <td>145.091299</td>\n",
       "      <td>524.491154</td>\n",
       "      <td>12.855769</td>\n",
       "      <td>45.091299</td>\n",
       "      <td>NaN</td>\n",
       "      <td>12.901361</td>\n",
       "    </tr>\n",
       "    <tr>\n",
       "      <th>...</th>\n",
       "      <td>...</td>\n",
       "      <td>...</td>\n",
       "      <td>...</td>\n",
       "      <td>...</td>\n",
       "      <td>...</td>\n",
       "      <td>...</td>\n",
       "      <td>...</td>\n",
       "      <td>...</td>\n",
       "    </tr>\n",
       "    <tr>\n",
       "      <th>205</th>\n",
       "      <td>9</td>\n",
       "      <td>2016</td>\n",
       "      <td>193.916591</td>\n",
       "      <td>979.643977</td>\n",
       "      <td>7.909773</td>\n",
       "      <td>93.916591</td>\n",
       "      <td>NaN</td>\n",
       "      <td>7.955119</td>\n",
       "    </tr>\n",
       "    <tr>\n",
       "      <th>206</th>\n",
       "      <td>9</td>\n",
       "      <td>2017</td>\n",
       "      <td>206.816705</td>\n",
       "      <td>1043.760909</td>\n",
       "      <td>6.795114</td>\n",
       "      <td>106.816705</td>\n",
       "      <td>NaN</td>\n",
       "      <td>6.652403</td>\n",
       "    </tr>\n",
       "    <tr>\n",
       "      <th>207</th>\n",
       "      <td>9</td>\n",
       "      <td>2018</td>\n",
       "      <td>222.095568</td>\n",
       "      <td>1122.624886</td>\n",
       "      <td>7.370909</td>\n",
       "      <td>122.095568</td>\n",
       "      <td>NaN</td>\n",
       "      <td>7.387635</td>\n",
       "    </tr>\n",
       "    <tr>\n",
       "      <th>208</th>\n",
       "      <td>9</td>\n",
       "      <td>2019</td>\n",
       "      <td>230.280000</td>\n",
       "      <td>1157.207045</td>\n",
       "      <td>3.873750</td>\n",
       "      <td>130.280000</td>\n",
       "      <td>NaN</td>\n",
       "      <td>3.685095</td>\n",
       "    </tr>\n",
       "    <tr>\n",
       "      <th>209</th>\n",
       "      <td>9</td>\n",
       "      <td>2020</td>\n",
       "      <td>236.302386</td>\n",
       "      <td>1177.330341</td>\n",
       "      <td>2.724205</td>\n",
       "      <td>136.302386</td>\n",
       "      <td>NaN</td>\n",
       "      <td>2.615245</td>\n",
       "    </tr>\n",
       "  </tbody>\n",
       "</table>\n",
       "<p>210 rows × 8 columns</p>\n",
       "</div>"
      ],
      "text/plain": [
       "    one-digit ZIP  Year  HPI with 2000 base          HPI  Annual Change (%)  \\\n",
       "0               0  2000          100.000000   362.011688          10.674545   \n",
       "1               0  2001          109.081169   396.925455           9.081169   \n",
       "2               0  2002          119.488961   436.928961           9.494416   \n",
       "3               0  2003          128.511558   465.643462           7.492987   \n",
       "4               0  2004          145.091299   524.491154          12.855769   \n",
       "..            ...   ...                 ...          ...                ...   \n",
       "205             9  2016          193.916591   979.643977           7.909773   \n",
       "206             9  2017          206.816705  1043.760909           6.795114   \n",
       "207             9  2018          222.095568  1122.624886           7.370909   \n",
       "208             9  2019          230.280000  1157.207045           3.873750   \n",
       "209             9  2020          236.302386  1177.330341           2.724205   \n",
       "\n",
       "     Percent change since 2000  Percent change since 2010  \\\n",
       "0                     0.000000                        NaN   \n",
       "1                     9.081169                        NaN   \n",
       "2                    19.488961                        NaN   \n",
       "3                    28.511558                        NaN   \n",
       "4                    45.091299                        NaN   \n",
       "..                         ...                        ...   \n",
       "205                  93.916591                        NaN   \n",
       "206                 106.816705                        NaN   \n",
       "207                 122.095568                        NaN   \n",
       "208                 130.280000                        NaN   \n",
       "209                 136.302386                        NaN   \n",
       "\n",
       "     HPI year by year percent change since 2000  \n",
       "0                                           NaN  \n",
       "1                                      9.081169  \n",
       "2                                      9.541328  \n",
       "3                                      7.550988  \n",
       "4                                     12.901361  \n",
       "..                                          ...  \n",
       "205                                    7.955119  \n",
       "206                                    6.652403  \n",
       "207                                    7.387635  \n",
       "208                                    3.685095  \n",
       "209                                    2.615245  \n",
       "\n",
       "[210 rows x 8 columns]"
      ]
     },
     "execution_count": 13,
     "metadata": {},
     "output_type": "execute_result"
    }
   ],
   "source": [
    "hpi2000base_avg_20s"
   ]
  },
  {
   "attachments": {},
   "cell_type": "markdown",
   "metadata": {},
   "source": [
    "7. Save file as .csv file for comparison."
   ]
  },
  {
   "cell_type": "code",
   "execution_count": 12,
   "metadata": {},
   "outputs": [],
   "source": [
    "hpi2000base_avg_20s.to_csv('../data/hpi_2000-2020.csv',index=False)"
   ]
  }
 ],
 "metadata": {
  "kernelspec": {
   "display_name": "base",
   "language": "python",
   "name": "python3"
  },
  "language_info": {
   "codemirror_mode": {
    "name": "ipython",
    "version": 3
   },
   "file_extension": ".py",
   "mimetype": "text/x-python",
   "name": "python",
   "nbconvert_exporter": "python",
   "pygments_lexer": "ipython3",
   "version": "3.9.13"
  },
  "orig_nbformat": 4
 },
 "nbformat": 4,
 "nbformat_minor": 2
}
