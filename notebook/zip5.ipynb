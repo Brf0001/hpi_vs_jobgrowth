{
 "cells": [
  {
   "cell_type": "code",
   "execution_count": 1,
   "metadata": {},
   "outputs": [],
   "source": [
    "import pandas as pd   \n",
    "import numpy as np\n",
    "import matplotlib.pyplot as plt\n",
    "import seaborn as sns"
   ]
  },
  {
   "attachments": {},
   "cell_type": "markdown",
   "metadata": {},
   "source": [
    "1. Import state employment data from years 2000-2020. All included states have zipcodes that begin with 5. "
   ]
  },
  {
   "cell_type": "code",
   "execution_count": 2,
   "metadata": {},
   "outputs": [
    {
     "name": "stderr",
     "output_type": "stream",
     "text": [
      "c:\\Users\\12564\\anaconda3\\lib\\site-packages\\openpyxl\\styles\\stylesheet.py:226: UserWarning: Workbook contains no default style, apply openpyxl's default\n",
      "  warn(\"Workbook contains no default style, apply openpyxl's default\")\n",
      "c:\\Users\\12564\\anaconda3\\lib\\site-packages\\openpyxl\\styles\\stylesheet.py:226: UserWarning: Workbook contains no default style, apply openpyxl's default\n",
      "  warn(\"Workbook contains no default style, apply openpyxl's default\")\n",
      "c:\\Users\\12564\\anaconda3\\lib\\site-packages\\openpyxl\\styles\\stylesheet.py:226: UserWarning: Workbook contains no default style, apply openpyxl's default\n",
      "  warn(\"Workbook contains no default style, apply openpyxl's default\")\n",
      "c:\\Users\\12564\\anaconda3\\lib\\site-packages\\openpyxl\\styles\\stylesheet.py:226: UserWarning: Workbook contains no default style, apply openpyxl's default\n",
      "  warn(\"Workbook contains no default style, apply openpyxl's default\")\n",
      "c:\\Users\\12564\\anaconda3\\lib\\site-packages\\openpyxl\\styles\\stylesheet.py:226: UserWarning: Workbook contains no default style, apply openpyxl's default\n",
      "  warn(\"Workbook contains no default style, apply openpyxl's default\")\n",
      "c:\\Users\\12564\\anaconda3\\lib\\site-packages\\openpyxl\\styles\\stylesheet.py:226: UserWarning: Workbook contains no default style, apply openpyxl's default\n",
      "  warn(\"Workbook contains no default style, apply openpyxl's default\")\n"
     ]
    }
   ],
   "source": [
    "IA_df = pd.read_excel('../data/5XXXX/ia_jobs.xlsx', skiprows=12)\n",
    "MN_df = pd.read_excel('../data/5XXXX/mn_jobs.xlsx', skiprows=12)\n",
    "MT_df = pd.read_excel('../data/5XXXX/mt_jobs.xlsx', skiprows=12)\n",
    "ND_df = pd.read_excel('../data/5XXXX/nd_jobs.xlsx', skiprows=12)\n",
    "SD_df = pd.read_excel('../data/5XXXX/sd_jobs.xlsx', skiprows=12)\n",
    "WI_df = pd.read_excel('../data/5XXXX/wi_jobs.xlsx', skiprows=12)"
   ]
  },
  {
   "attachments": {},
   "cell_type": "markdown",
   "metadata": {},
   "source": [
    "2. Combine all state employment numbers to a common dataframe for all states with 5XXXX."
   ]
  },
  {
   "cell_type": "code",
   "execution_count": 3,
   "metadata": {},
   "outputs": [],
   "source": [
    "combined_df = pd.concat([IA_df,MN_df,MT_df,ND_df,SD_df,WI_df])"
   ]
  },
  {
   "attachments": {},
   "cell_type": "markdown",
   "metadata": {},
   "source": [
    "3. Group data by year, first step to find the mean for the region."
   ]
  },
  {
   "cell_type": "code",
   "execution_count": 4,
   "metadata": {},
   "outputs": [],
   "source": [
    "avg_job_growth = combined_df.groupby('Year').mean()"
   ]
  },
  {
   "attachments": {},
   "cell_type": "markdown",
   "metadata": {},
   "source": [
    "4. Perform a mean on the group by data to get final numbers. "
   ]
  },
  {
   "cell_type": "code",
   "execution_count": 5,
   "metadata": {},
   "outputs": [],
   "source": [
    "region5_jobs = avg_job_growth.mean(axis=1).reset_index()"
   ]
  },
  {
   "cell_type": "code",
   "execution_count": 6,
   "metadata": {},
   "outputs": [],
   "source": [
    "region5_jobs.columns.values[1]='employment_by_thosands'"
   ]
  },
  {
   "attachments": {},
   "cell_type": "markdown",
   "metadata": {},
   "source": [
    "5. Convert numbers into percentage change based on year by year values for better comparison to other regions. "
   ]
  },
  {
   "cell_type": "code",
   "execution_count": 7,
   "metadata": {},
   "outputs": [],
   "source": [
    "region5_jobs['percent_change'] = region5_jobs['employment_by_thosands'].pct_change()*100"
   ]
  },
  {
   "attachments": {},
   "cell_type": "markdown",
   "metadata": {},
   "source": [
    "6. Find percentage change from 2000 to 2010, 2010 to 2020, and 2000 to 2020"
   ]
  },
  {
   "cell_type": "code",
   "execution_count": 8,
   "metadata": {},
   "outputs": [],
   "source": [
    "region5_2000 = region5_jobs.iloc[0,1]\n",
    "region5_2010 = region5_jobs.iloc[10,1]\n",
    "region5_2020 = region5_jobs.iloc[20,1]"
   ]
  },
  {
   "cell_type": "code",
   "execution_count": 9,
   "metadata": {},
   "outputs": [],
   "source": [
    "region5_2000_2010_change = (region5_2010-region5_2000)/region5_2000 *100\n",
    "region5_2010_2020_change = (region5_2020-region5_2010)/region5_2010*100\n",
    "region5_20_year_change = (region5_2020-region5_2000)/region5_2000*100\n",
    "region5_jobs['employment percent change since 2000']=(region5_jobs['employment_by_thosands']-region5_jobs.iloc[0,1])/(region5_jobs.iloc[0,1])*100\n",
    "region5_jobs['employment percent change since 2010']=(region5_jobs['employment_by_thosands']-region5_jobs.iloc[10,1])/(region5_jobs.iloc[10,1])*100"
   ]
  },
  {
   "attachments": {},
   "cell_type": "markdown",
   "metadata": {},
   "source": [
    "ZIP 5 REGIONAL FINDINGS"
   ]
  },
  {
   "cell_type": "code",
   "execution_count": 10,
   "metadata": {},
   "outputs": [
    {
     "data": {
      "text/html": [
       "<div>\n",
       "<style scoped>\n",
       "    .dataframe tbody tr th:only-of-type {\n",
       "        vertical-align: middle;\n",
       "    }\n",
       "\n",
       "    .dataframe tbody tr th {\n",
       "        vertical-align: top;\n",
       "    }\n",
       "\n",
       "    .dataframe thead th {\n",
       "        text-align: right;\n",
       "    }\n",
       "</style>\n",
       "<table border=\"1\" class=\"dataframe\">\n",
       "  <thead>\n",
       "    <tr style=\"text-align: right;\">\n",
       "      <th></th>\n",
       "      <th>Year</th>\n",
       "      <th>employment_by_thosands</th>\n",
       "      <th>percent_change</th>\n",
       "      <th>employment percent change since 2000</th>\n",
       "      <th>employment percent change since 2010</th>\n",
       "    </tr>\n",
       "  </thead>\n",
       "  <tbody>\n",
       "    <tr>\n",
       "      <th>0</th>\n",
       "      <td>2000</td>\n",
       "      <td>1356.808333</td>\n",
       "      <td>NaN</td>\n",
       "      <td>0.000000</td>\n",
       "      <td>0.950602</td>\n",
       "    </tr>\n",
       "    <tr>\n",
       "      <th>1</th>\n",
       "      <td>2001</td>\n",
       "      <td>1352.351389</td>\n",
       "      <td>-0.328487</td>\n",
       "      <td>-0.328487</td>\n",
       "      <td>0.618992</td>\n",
       "    </tr>\n",
       "    <tr>\n",
       "      <th>2</th>\n",
       "      <td>2002</td>\n",
       "      <td>1340.105556</td>\n",
       "      <td>-0.905522</td>\n",
       "      <td>-1.231034</td>\n",
       "      <td>-0.292135</td>\n",
       "    </tr>\n",
       "    <tr>\n",
       "      <th>3</th>\n",
       "      <td>2003</td>\n",
       "      <td>1337.797222</td>\n",
       "      <td>-0.172250</td>\n",
       "      <td>-1.401164</td>\n",
       "      <td>-0.463882</td>\n",
       "    </tr>\n",
       "    <tr>\n",
       "      <th>4</th>\n",
       "      <td>2004</td>\n",
       "      <td>1352.550000</td>\n",
       "      <td>1.102766</td>\n",
       "      <td>-0.313849</td>\n",
       "      <td>0.633769</td>\n",
       "    </tr>\n",
       "    <tr>\n",
       "      <th>5</th>\n",
       "      <td>2005</td>\n",
       "      <td>1372.688889</td>\n",
       "      <td>1.488957</td>\n",
       "      <td>1.170435</td>\n",
       "      <td>2.132162</td>\n",
       "    </tr>\n",
       "    <tr>\n",
       "      <th>6</th>\n",
       "      <td>2006</td>\n",
       "      <td>1391.775000</td>\n",
       "      <td>1.390418</td>\n",
       "      <td>2.577126</td>\n",
       "      <td>3.552226</td>\n",
       "    </tr>\n",
       "    <tr>\n",
       "      <th>7</th>\n",
       "      <td>2007</td>\n",
       "      <td>1403.351389</td>\n",
       "      <td>0.831772</td>\n",
       "      <td>3.430334</td>\n",
       "      <td>4.413544</td>\n",
       "    </tr>\n",
       "    <tr>\n",
       "      <th>8</th>\n",
       "      <td>2008</td>\n",
       "      <td>1403.334722</td>\n",
       "      <td>-0.001188</td>\n",
       "      <td>3.429105</td>\n",
       "      <td>4.412304</td>\n",
       "    </tr>\n",
       "    <tr>\n",
       "      <th>9</th>\n",
       "      <td>2009</td>\n",
       "      <td>1351.233333</td>\n",
       "      <td>-3.712684</td>\n",
       "      <td>-0.410891</td>\n",
       "      <td>0.535805</td>\n",
       "    </tr>\n",
       "    <tr>\n",
       "      <th>10</th>\n",
       "      <td>2010</td>\n",
       "      <td>1344.031944</td>\n",
       "      <td>-0.532949</td>\n",
       "      <td>-0.941650</td>\n",
       "      <td>0.000000</td>\n",
       "    </tr>\n",
       "    <tr>\n",
       "      <th>11</th>\n",
       "      <td>2011</td>\n",
       "      <td>1360.934722</td>\n",
       "      <td>1.257617</td>\n",
       "      <td>0.304125</td>\n",
       "      <td>1.257617</td>\n",
       "    </tr>\n",
       "    <tr>\n",
       "      <th>12</th>\n",
       "      <td>2012</td>\n",
       "      <td>1380.666667</td>\n",
       "      <td>1.449882</td>\n",
       "      <td>1.758416</td>\n",
       "      <td>2.725733</td>\n",
       "    </tr>\n",
       "    <tr>\n",
       "      <th>13</th>\n",
       "      <td>2013</td>\n",
       "      <td>1399.286111</td>\n",
       "      <td>1.348584</td>\n",
       "      <td>3.130713</td>\n",
       "      <td>4.111075</td>\n",
       "    </tr>\n",
       "    <tr>\n",
       "      <th>14</th>\n",
       "      <td>2014</td>\n",
       "      <td>1419.077778</td>\n",
       "      <td>1.414412</td>\n",
       "      <td>4.589406</td>\n",
       "      <td>5.583635</td>\n",
       "    </tr>\n",
       "    <tr>\n",
       "      <th>15</th>\n",
       "      <td>2015</td>\n",
       "      <td>1438.784722</td>\n",
       "      <td>1.388715</td>\n",
       "      <td>6.041855</td>\n",
       "      <td>7.049890</td>\n",
       "    </tr>\n",
       "    <tr>\n",
       "      <th>16</th>\n",
       "      <td>2016</td>\n",
       "      <td>1455.234722</td>\n",
       "      <td>1.143326</td>\n",
       "      <td>7.254259</td>\n",
       "      <td>8.273820</td>\n",
       "    </tr>\n",
       "    <tr>\n",
       "      <th>17</th>\n",
       "      <td>2017</td>\n",
       "      <td>1467.420833</td>\n",
       "      <td>0.837398</td>\n",
       "      <td>8.152404</td>\n",
       "      <td>9.180503</td>\n",
       "    </tr>\n",
       "    <tr>\n",
       "      <th>18</th>\n",
       "      <td>2018</td>\n",
       "      <td>1480.438889</td>\n",
       "      <td>0.887139</td>\n",
       "      <td>9.111866</td>\n",
       "      <td>10.149085</td>\n",
       "    </tr>\n",
       "    <tr>\n",
       "      <th>19</th>\n",
       "      <td>2019</td>\n",
       "      <td>1487.375000</td>\n",
       "      <td>0.468517</td>\n",
       "      <td>9.623074</td>\n",
       "      <td>10.665152</td>\n",
       "    </tr>\n",
       "    <tr>\n",
       "      <th>20</th>\n",
       "      <td>2020</td>\n",
       "      <td>1406.493056</td>\n",
       "      <td>-5.437899</td>\n",
       "      <td>3.661882</td>\n",
       "      <td>4.647294</td>\n",
       "    </tr>\n",
       "  </tbody>\n",
       "</table>\n",
       "</div>"
      ],
      "text/plain": [
       "    Year  employment_by_thosands  percent_change  \\\n",
       "0   2000             1356.808333             NaN   \n",
       "1   2001             1352.351389       -0.328487   \n",
       "2   2002             1340.105556       -0.905522   \n",
       "3   2003             1337.797222       -0.172250   \n",
       "4   2004             1352.550000        1.102766   \n",
       "5   2005             1372.688889        1.488957   \n",
       "6   2006             1391.775000        1.390418   \n",
       "7   2007             1403.351389        0.831772   \n",
       "8   2008             1403.334722       -0.001188   \n",
       "9   2009             1351.233333       -3.712684   \n",
       "10  2010             1344.031944       -0.532949   \n",
       "11  2011             1360.934722        1.257617   \n",
       "12  2012             1380.666667        1.449882   \n",
       "13  2013             1399.286111        1.348584   \n",
       "14  2014             1419.077778        1.414412   \n",
       "15  2015             1438.784722        1.388715   \n",
       "16  2016             1455.234722        1.143326   \n",
       "17  2017             1467.420833        0.837398   \n",
       "18  2018             1480.438889        0.887139   \n",
       "19  2019             1487.375000        0.468517   \n",
       "20  2020             1406.493056       -5.437899   \n",
       "\n",
       "    employment percent change since 2000  employment percent change since 2010  \n",
       "0                               0.000000                              0.950602  \n",
       "1                              -0.328487                              0.618992  \n",
       "2                              -1.231034                             -0.292135  \n",
       "3                              -1.401164                             -0.463882  \n",
       "4                              -0.313849                              0.633769  \n",
       "5                               1.170435                              2.132162  \n",
       "6                               2.577126                              3.552226  \n",
       "7                               3.430334                              4.413544  \n",
       "8                               3.429105                              4.412304  \n",
       "9                              -0.410891                              0.535805  \n",
       "10                             -0.941650                              0.000000  \n",
       "11                              0.304125                              1.257617  \n",
       "12                              1.758416                              2.725733  \n",
       "13                              3.130713                              4.111075  \n",
       "14                              4.589406                              5.583635  \n",
       "15                              6.041855                              7.049890  \n",
       "16                              7.254259                              8.273820  \n",
       "17                              8.152404                              9.180503  \n",
       "18                              9.111866                             10.149085  \n",
       "19                              9.623074                             10.665152  \n",
       "20                              3.661882                              4.647294  "
      ]
     },
     "execution_count": 10,
     "metadata": {},
     "output_type": "execute_result"
    }
   ],
   "source": [
    "region5_jobs"
   ]
  },
  {
   "cell_type": "code",
   "execution_count": 11,
   "metadata": {},
   "outputs": [],
   "source": [
    "region5_jobs.to_csv('../data/zip5.csv',index=False)"
   ]
  }
 ],
 "metadata": {
  "kernelspec": {
   "display_name": "base",
   "language": "python",
   "name": "python3"
  },
  "language_info": {
   "codemirror_mode": {
    "name": "ipython",
    "version": 3
   },
   "file_extension": ".py",
   "mimetype": "text/x-python",
   "name": "python",
   "nbconvert_exporter": "python",
   "pygments_lexer": "ipython3",
   "version": "3.9.13"
  },
  "orig_nbformat": 4
 },
 "nbformat": 4,
 "nbformat_minor": 2
}
