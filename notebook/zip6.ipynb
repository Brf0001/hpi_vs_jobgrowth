{
 "cells": [
  {
   "cell_type": "code",
   "execution_count": 1,
   "metadata": {},
   "outputs": [],
   "source": [
    "import pandas as pd   \n",
    "import numpy as np\n",
    "import matplotlib.pyplot as plt\n",
    "import seaborn as sns"
   ]
  },
  {
   "attachments": {},
   "cell_type": "markdown",
   "metadata": {},
   "source": [
    "1. Import state employment data from years 2000-2020. All included states have zipcodes that begin with 6. "
   ]
  },
  {
   "cell_type": "code",
   "execution_count": 2,
   "metadata": {},
   "outputs": [
    {
     "name": "stderr",
     "output_type": "stream",
     "text": [
      "c:\\Users\\12564\\anaconda3\\lib\\site-packages\\openpyxl\\styles\\stylesheet.py:226: UserWarning: Workbook contains no default style, apply openpyxl's default\n",
      "  warn(\"Workbook contains no default style, apply openpyxl's default\")\n",
      "c:\\Users\\12564\\anaconda3\\lib\\site-packages\\openpyxl\\styles\\stylesheet.py:226: UserWarning: Workbook contains no default style, apply openpyxl's default\n",
      "  warn(\"Workbook contains no default style, apply openpyxl's default\")\n",
      "c:\\Users\\12564\\anaconda3\\lib\\site-packages\\openpyxl\\styles\\stylesheet.py:226: UserWarning: Workbook contains no default style, apply openpyxl's default\n",
      "  warn(\"Workbook contains no default style, apply openpyxl's default\")\n",
      "c:\\Users\\12564\\anaconda3\\lib\\site-packages\\openpyxl\\styles\\stylesheet.py:226: UserWarning: Workbook contains no default style, apply openpyxl's default\n",
      "  warn(\"Workbook contains no default style, apply openpyxl's default\")\n"
     ]
    }
   ],
   "source": [
    "IL_df = pd.read_excel('../data/6XXXX/il_jobs.xlsx', skiprows=12)\n",
    "KS_df = pd.read_excel('../data/6XXXX/ks_jobs.xlsx', skiprows=12)\n",
    "MO_df = pd.read_excel('../data/6XXXX/mo_jobs.xlsx', skiprows=12)\n",
    "NE_df = pd.read_excel('../data/6XXXX/ne_jobs.xlsx', skiprows=12)"
   ]
  },
  {
   "attachments": {},
   "cell_type": "markdown",
   "metadata": {},
   "source": [
    "2. Combine all state employment numbers to a common dataframe for all states with 6XXXX."
   ]
  },
  {
   "cell_type": "code",
   "execution_count": 3,
   "metadata": {},
   "outputs": [],
   "source": [
    "combined_df = pd.concat([IL_df,KS_df,MO_df,NE_df])"
   ]
  },
  {
   "attachments": {},
   "cell_type": "markdown",
   "metadata": {},
   "source": [
    "3. Group data by year, first step to find the mean for the region."
   ]
  },
  {
   "cell_type": "code",
   "execution_count": 4,
   "metadata": {},
   "outputs": [],
   "source": [
    "avg_job_growth = combined_df.groupby('Year').mean()"
   ]
  },
  {
   "attachments": {},
   "cell_type": "markdown",
   "metadata": {},
   "source": [
    "4. Perform a mean on the group by data to get final numbers. "
   ]
  },
  {
   "cell_type": "code",
   "execution_count": 5,
   "metadata": {},
   "outputs": [],
   "source": [
    "region6_jobs = avg_job_growth.mean(axis=1).reset_index()"
   ]
  },
  {
   "cell_type": "code",
   "execution_count": 6,
   "metadata": {},
   "outputs": [],
   "source": [
    "region6_jobs.columns.values[1]='employment_by_thosands'"
   ]
  },
  {
   "attachments": {},
   "cell_type": "markdown",
   "metadata": {},
   "source": [
    "5. Convert numbers into percentage change based on year by year values for better comparison to other regions. "
   ]
  },
  {
   "cell_type": "code",
   "execution_count": 7,
   "metadata": {},
   "outputs": [],
   "source": [
    "region6_jobs['percent_change'] = region6_jobs['employment_by_thosands'].pct_change()*100"
   ]
  },
  {
   "attachments": {},
   "cell_type": "markdown",
   "metadata": {},
   "source": [
    "6. Find percentage change from 2000 to 2010, 2010 to 2020, and 2000 to 2020"
   ]
  },
  {
   "cell_type": "code",
   "execution_count": 8,
   "metadata": {},
   "outputs": [],
   "source": [
    "region6_2000 = region6_jobs.iloc[0,1]\n",
    "region6_2010 = region6_jobs.iloc[10,1]\n",
    "region6_2020 = region6_jobs.iloc[20,1]"
   ]
  },
  {
   "cell_type": "code",
   "execution_count": 9,
   "metadata": {},
   "outputs": [],
   "source": [
    "region6_2000_2010_change = (region6_2010-region6_2000)/region6_2000 *100\n",
    "region6_2010_2020_change = (region6_2020-region6_2010)/region6_2010*100\n",
    "region6_20_year_change = (region6_2020-region6_2000)/region6_2000*100\n",
    "region6_jobs['employment percent change since 2000']=(region6_jobs['employment_by_thosands']-region6_jobs.iloc[0,1])/(region6_jobs.iloc[0,1])*100\n",
    "region6_jobs['employment percent change since 2010']=(region6_jobs['employment_by_thosands']-region6_jobs.iloc[10,1])/(region6_jobs.iloc[10,1])*100"
   ]
  },
  {
   "attachments": {},
   "cell_type": "markdown",
   "metadata": {},
   "source": [
    "ZIP 6 REGIONAL FINDINGS"
   ]
  },
  {
   "cell_type": "code",
   "execution_count": 10,
   "metadata": {},
   "outputs": [
    {
     "data": {
      "text/html": [
       "<div>\n",
       "<style scoped>\n",
       "    .dataframe tbody tr th:only-of-type {\n",
       "        vertical-align: middle;\n",
       "    }\n",
       "\n",
       "    .dataframe tbody tr th {\n",
       "        vertical-align: top;\n",
       "    }\n",
       "\n",
       "    .dataframe thead th {\n",
       "        text-align: right;\n",
       "    }\n",
       "</style>\n",
       "<table border=\"1\" class=\"dataframe\">\n",
       "  <thead>\n",
       "    <tr style=\"text-align: right;\">\n",
       "      <th></th>\n",
       "      <th>Year</th>\n",
       "      <th>employment_by_thosands</th>\n",
       "      <th>percent_change</th>\n",
       "      <th>employment percent change since 2000</th>\n",
       "      <th>employment percent change since 2010</th>\n",
       "    </tr>\n",
       "  </thead>\n",
       "  <tbody>\n",
       "    <tr>\n",
       "      <th>0</th>\n",
       "      <td>2000</td>\n",
       "      <td>2764.195833</td>\n",
       "      <td>NaN</td>\n",
       "      <td>0.000000</td>\n",
       "      <td>4.754070</td>\n",
       "    </tr>\n",
       "    <tr>\n",
       "      <th>1</th>\n",
       "      <td>2001</td>\n",
       "      <td>2749.366667</td>\n",
       "      <td>-0.536473</td>\n",
       "      <td>-0.536473</td>\n",
       "      <td>4.192092</td>\n",
       "    </tr>\n",
       "    <tr>\n",
       "      <th>2</th>\n",
       "      <td>2002</td>\n",
       "      <td>2708.968750</td>\n",
       "      <td>-1.469354</td>\n",
       "      <td>-1.997944</td>\n",
       "      <td>2.661142</td>\n",
       "    </tr>\n",
       "    <tr>\n",
       "      <th>3</th>\n",
       "      <td>2003</td>\n",
       "      <td>2681.231250</td>\n",
       "      <td>-1.023914</td>\n",
       "      <td>-3.001400</td>\n",
       "      <td>1.609981</td>\n",
       "    </tr>\n",
       "    <tr>\n",
       "      <th>4</th>\n",
       "      <td>2004</td>\n",
       "      <td>2691.641667</td>\n",
       "      <td>0.388270</td>\n",
       "      <td>-2.624784</td>\n",
       "      <td>2.004502</td>\n",
       "    </tr>\n",
       "    <tr>\n",
       "      <th>5</th>\n",
       "      <td>2005</td>\n",
       "      <td>2718.981250</td>\n",
       "      <td>1.015722</td>\n",
       "      <td>-1.635723</td>\n",
       "      <td>3.040583</td>\n",
       "    </tr>\n",
       "    <tr>\n",
       "      <th>6</th>\n",
       "      <td>2006</td>\n",
       "      <td>2754.447917</td>\n",
       "      <td>1.304410</td>\n",
       "      <td>-0.352649</td>\n",
       "      <td>4.384655</td>\n",
       "    </tr>\n",
       "    <tr>\n",
       "      <th>7</th>\n",
       "      <td>2007</td>\n",
       "      <td>2782.016667</td>\n",
       "      <td>1.000881</td>\n",
       "      <td>0.644702</td>\n",
       "      <td>5.429422</td>\n",
       "    </tr>\n",
       "    <tr>\n",
       "      <th>8</th>\n",
       "      <td>2008</td>\n",
       "      <td>2777.714583</td>\n",
       "      <td>-0.154639</td>\n",
       "      <td>0.489066</td>\n",
       "      <td>5.266387</td>\n",
       "    </tr>\n",
       "    <tr>\n",
       "      <th>9</th>\n",
       "      <td>2009</td>\n",
       "      <td>2662.377083</td>\n",
       "      <td>-4.152244</td>\n",
       "      <td>-3.683485</td>\n",
       "      <td>0.895469</td>\n",
       "    </tr>\n",
       "    <tr>\n",
       "      <th>10</th>\n",
       "      <td>2010</td>\n",
       "      <td>2638.747917</td>\n",
       "      <td>-0.887521</td>\n",
       "      <td>-4.538315</td>\n",
       "      <td>0.000000</td>\n",
       "    </tr>\n",
       "    <tr>\n",
       "      <th>11</th>\n",
       "      <td>2011</td>\n",
       "      <td>2662.635417</td>\n",
       "      <td>0.905259</td>\n",
       "      <td>-3.674140</td>\n",
       "      <td>0.905259</td>\n",
       "    </tr>\n",
       "    <tr>\n",
       "      <th>12</th>\n",
       "      <td>2012</td>\n",
       "      <td>2693.806250</td>\n",
       "      <td>1.170676</td>\n",
       "      <td>-2.546476</td>\n",
       "      <td>2.086533</td>\n",
       "    </tr>\n",
       "    <tr>\n",
       "      <th>13</th>\n",
       "      <td>2013</td>\n",
       "      <td>2719.962500</td>\n",
       "      <td>0.970977</td>\n",
       "      <td>-1.600224</td>\n",
       "      <td>3.077770</td>\n",
       "    </tr>\n",
       "    <tr>\n",
       "      <th>14</th>\n",
       "      <td>2014</td>\n",
       "      <td>2753.854167</td>\n",
       "      <td>1.246034</td>\n",
       "      <td>-0.374129</td>\n",
       "      <td>4.362154</td>\n",
       "    </tr>\n",
       "    <tr>\n",
       "      <th>15</th>\n",
       "      <td>2015</td>\n",
       "      <td>2796.016667</td>\n",
       "      <td>1.531036</td>\n",
       "      <td>1.151179</td>\n",
       "      <td>5.959976</td>\n",
       "    </tr>\n",
       "    <tr>\n",
       "      <th>16</th>\n",
       "      <td>2016</td>\n",
       "      <td>2821.525000</td>\n",
       "      <td>0.912310</td>\n",
       "      <td>2.073991</td>\n",
       "      <td>6.926660</td>\n",
       "    </tr>\n",
       "    <tr>\n",
       "      <th>17</th>\n",
       "      <td>2017</td>\n",
       "      <td>2839.670833</td>\n",
       "      <td>0.643121</td>\n",
       "      <td>2.730451</td>\n",
       "      <td>7.614328</td>\n",
       "    </tr>\n",
       "    <tr>\n",
       "      <th>18</th>\n",
       "      <td>2018</td>\n",
       "      <td>2858.795833</td>\n",
       "      <td>0.673494</td>\n",
       "      <td>3.422333</td>\n",
       "      <td>8.339103</td>\n",
       "    </tr>\n",
       "    <tr>\n",
       "      <th>19</th>\n",
       "      <td>2019</td>\n",
       "      <td>2872.693750</td>\n",
       "      <td>0.486146</td>\n",
       "      <td>3.925117</td>\n",
       "      <td>8.865789</td>\n",
       "    </tr>\n",
       "    <tr>\n",
       "      <th>20</th>\n",
       "      <td>2020</td>\n",
       "      <td>2705.268750</td>\n",
       "      <td>-5.828153</td>\n",
       "      <td>-2.131798</td>\n",
       "      <td>2.520924</td>\n",
       "    </tr>\n",
       "  </tbody>\n",
       "</table>\n",
       "</div>"
      ],
      "text/plain": [
       "    Year  employment_by_thosands  percent_change  \\\n",
       "0   2000             2764.195833             NaN   \n",
       "1   2001             2749.366667       -0.536473   \n",
       "2   2002             2708.968750       -1.469354   \n",
       "3   2003             2681.231250       -1.023914   \n",
       "4   2004             2691.641667        0.388270   \n",
       "5   2005             2718.981250        1.015722   \n",
       "6   2006             2754.447917        1.304410   \n",
       "7   2007             2782.016667        1.000881   \n",
       "8   2008             2777.714583       -0.154639   \n",
       "9   2009             2662.377083       -4.152244   \n",
       "10  2010             2638.747917       -0.887521   \n",
       "11  2011             2662.635417        0.905259   \n",
       "12  2012             2693.806250        1.170676   \n",
       "13  2013             2719.962500        0.970977   \n",
       "14  2014             2753.854167        1.246034   \n",
       "15  2015             2796.016667        1.531036   \n",
       "16  2016             2821.525000        0.912310   \n",
       "17  2017             2839.670833        0.643121   \n",
       "18  2018             2858.795833        0.673494   \n",
       "19  2019             2872.693750        0.486146   \n",
       "20  2020             2705.268750       -5.828153   \n",
       "\n",
       "    employment percent change since 2000  employment percent change since 2010  \n",
       "0                               0.000000                              4.754070  \n",
       "1                              -0.536473                              4.192092  \n",
       "2                              -1.997944                              2.661142  \n",
       "3                              -3.001400                              1.609981  \n",
       "4                              -2.624784                              2.004502  \n",
       "5                              -1.635723                              3.040583  \n",
       "6                              -0.352649                              4.384655  \n",
       "7                               0.644702                              5.429422  \n",
       "8                               0.489066                              5.266387  \n",
       "9                              -3.683485                              0.895469  \n",
       "10                             -4.538315                              0.000000  \n",
       "11                             -3.674140                              0.905259  \n",
       "12                             -2.546476                              2.086533  \n",
       "13                             -1.600224                              3.077770  \n",
       "14                             -0.374129                              4.362154  \n",
       "15                              1.151179                              5.959976  \n",
       "16                              2.073991                              6.926660  \n",
       "17                              2.730451                              7.614328  \n",
       "18                              3.422333                              8.339103  \n",
       "19                              3.925117                              8.865789  \n",
       "20                             -2.131798                              2.520924  "
      ]
     },
     "execution_count": 10,
     "metadata": {},
     "output_type": "execute_result"
    }
   ],
   "source": [
    "region6_jobs"
   ]
  },
  {
   "cell_type": "code",
   "execution_count": 11,
   "metadata": {},
   "outputs": [],
   "source": [
    "region6_jobs.to_csv('../data/zip6.csv',index=False)"
   ]
  }
 ],
 "metadata": {
  "kernelspec": {
   "display_name": "base",
   "language": "python",
   "name": "python3"
  },
  "language_info": {
   "codemirror_mode": {
    "name": "ipython",
    "version": 3
   },
   "file_extension": ".py",
   "mimetype": "text/x-python",
   "name": "python",
   "nbconvert_exporter": "python",
   "pygments_lexer": "ipython3",
   "version": "3.9.13"
  },
  "orig_nbformat": 4
 },
 "nbformat": 4,
 "nbformat_minor": 2
}
